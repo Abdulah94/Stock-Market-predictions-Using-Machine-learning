{
 "cells": [
  {
   "cell_type": "code",
   "execution_count": null,
   "id": "445b2388-4d7c-4378-9c2f-4034c7b82ba5",
   "metadata": {},
   "outputs": [],
   "source": [
    "import csv\n",
    "import os\n",
    "import pandas as pd\n",
    "import yfinance as yf \n",
    "from sqlalchemy.types import Date, Numeric\n",
    "from database import engine"
   ]
  },
  {
   "cell_type": "code",
   "execution_count": null,
   "id": "51bd6370-88d5-446c-b294-91042e0646ea",
   "metadata": {},
   "outputs": [],
   "source": [
    "table=pd.read_html(\"https://en.wikipedia.org/wiki/List_of_S%26P_500_companies\")\n",
    "df = table[0]\n",
    "stockticker = df[\"Symbol\"].to_list()"
   ]
  },
  {
   "cell_type": "code",
   "execution_count": null,
   "id": "27df744f-69ba-4f9c-b430-a7e945ebaf56",
   "metadata": {},
   "outputs": [],
   "source": [
    "with open(\"../data_one/tickerlist.txt\", \"w+\") as out_file:\n",
    "    for ticker in stockticker:\n",
    "        out_file.write(\"%s\\n\" %ticker)"
   ]
  },
  {
   "cell_type": "code",
   "execution_count": null,
   "id": "9b968110-672c-4606-9639-52780164620d",
   "metadata": {},
   "outputs": [],
   "source": [
    "with open(\"../data_two/tickerlist.txt\", \"r\") as in_file:\n",
    "    clean_tickers = in_file.read()"
   ]
  },
  {
   "cell_type": "code",
   "execution_count": null,
   "id": "f04541bb-754a-4c3f-996a-022ca8951421",
   "metadata": {},
   "outputs": [],
   "source": [
    "adj_close = yf.download(clean_tickers, \"2019-04-29\", \"2022-04-29\")[\"Adj Close\"]"
   ]
  },
  {
   "cell_type": "code",
   "execution_count": null,
   "id": "070d9b33-79c2-4259-b5e7-a70f8b3e5485",
   "metadata": {},
   "outputs": [],
   "source": [
    "close_price = yf.download(clean_tickers, \"2019-04-29\", \"2022-04-29\")[\"Close\"]"
   ]
  },
  {
   "cell_type": "code",
   "execution_count": null,
   "id": "44a7ccb6-a4bb-44b2-b9c2-1465a6315dcd",
   "metadata": {},
   "outputs": [],
   "source": [
    "high_price = yf.download(clean_tickers, \"2019-04-29\", \"2022-04-29\")[\"High\"]"
   ]
  },
  {
   "cell_type": "code",
   "execution_count": null,
   "id": "e037f76f-eefc-4e88-bdb0-7fb03546420d",
   "metadata": {},
   "outputs": [],
   "source": [
    "low_price = yf.download(clean_tickers, \"2019-04-29\", \"2022-04-29\")[\"Low\"]"
   ]
  },
  {
   "cell_type": "code",
   "execution_count": null,
   "id": "4711f27c-b358-4df2-a33e-f1e9aaaf5305",
   "metadata": {},
   "outputs": [],
   "source": [
    "open_price = yf.download(clean_tickers, \"2019-04-29\", \"2022-04-29\")[\"Open\"]"
   ]
  },
  {
   "cell_type": "code",
   "execution_count": null,
   "id": "1e120dfe-7df5-4c25-9e8d-e982eed01943",
   "metadata": {},
   "outputs": [],
   "source": [
    "volume = yf.download(clean_tickers, \"2019-04-29\", \"2022-04-29\")[\"Volume\"]"
   ]
  }
 ],
 "metadata": {
  "environment": {
   "kernel": "python3",
   "name": "common-cpu.m91",
   "type": "gcloud",
   "uri": "gcr.io/deeplearning-platform-release/base-cpu:m91"
  },
  "kernelspec": {
   "display_name": "Python 3",
   "language": "python",
   "name": "python3"
  },
  "language_info": {
   "codemirror_mode": {
    "name": "ipython",
    "version": 3
   },
   "file_extension": ".py",
   "mimetype": "text/x-python",
   "name": "python",
   "nbconvert_exporter": "python",
   "pygments_lexer": "ipython3",
   "version": "3.7.12"
  }
 },
 "nbformat": 4,
 "nbformat_minor": 5
}
