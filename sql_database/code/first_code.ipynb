{
 "cells": [
  {
   "cell_type": "code",
   "execution_count": null,
   "id": "445b2388-4d7c-4378-9c2f-4034c7b82ba5",
   "metadata": {},
   "outputs": [],
   "source": [
    "import csv\n",
    "import os\n",
    "import pandas as pd\n",
    "import yfinance as yf \n",
    "from sqlalchemy.types import Date, Numeric\n",
    "from database import engine"
   ]
  },
  {
   "cell_type": "code",
   "execution_count": null,
   "id": "51bd6370-88d5-446c-b294-91042e0646ea",
   "metadata": {},
   "outputs": [],
   "source": [
    "table=pd.read_html(\"https://en.wikipedia.org/wiki/List_of_S%26P_500_companies\")\n",
    "df = table[0]\n",
    "stockticker = df[\"Symbol\"].to_list()"
   ]
  },
  {
   "cell_type": "code",
   "execution_count": null,
   "id": "27df744f-69ba-4f9c-b430-a7e945ebaf56",
   "metadata": {},
   "outputs": [],
   "source": [
    "with open(\"../data_one/tickerlist.txt\", \"w+\") as out_file:\n",
    "    for ticker in stockticker:\n",
    "        out_file.write(\"%s\\n\" %ticker)"
   ]
  }
 ],
 "metadata": {
  "environment": {
   "kernel": "python3",
   "name": "common-cpu.m91",
   "type": "gcloud",
   "uri": "gcr.io/deeplearning-platform-release/base-cpu:m91"
  },
  "kernelspec": {
   "display_name": "Python 3",
   "language": "python",
   "name": "python3"
  },
  "language_info": {
   "codemirror_mode": {
    "name": "ipython",
    "version": 3
   },
   "file_extension": ".py",
   "mimetype": "text/x-python",
   "name": "python",
   "nbconvert_exporter": "python",
   "pygments_lexer": "ipython3",
   "version": "3.7.12"
  }
 },
 "nbformat": 4,
 "nbformat_minor": 5
}
