{
 "cells": [
  {
   "cell_type": "markdown",
   "id": "8c4fb533-276d-4787-8729-2b63993bdf39",
   "metadata": {},
   "source": [
    "# Stock Market Technical Analysis & Machine Learning Models"
   ]
  },
  {
   "cell_type": "markdown",
   "id": "7a8ed1c3-0232-4447-8ef7-257f6e22c297",
   "metadata": {},
   "source": [
    "### Libraries Imports"
   ]
  },
  {
   "cell_type": "code",
   "execution_count": 14,
   "id": "cce1db0f-4d64-48d9-9287-8d131e475cc9",
   "metadata": {},
   "outputs": [],
   "source": [
    "\n",
    "\n"
   ]
  },
  {
   "cell_type": "markdown",
   "id": "b2194ad7-4735-4b69-a67f-b0e647c37e3a",
   "metadata": {},
   "source": [
    "### Technical Analysis"
   ]
  },
  {
   "cell_type": "code",
   "execution_count": 15,
   "id": "c8ec279a-4871-438c-b546-bfcb8407029e",
   "metadata": {},
   "outputs": [],
   "source": []
  },
  {
   "cell_type": "markdown",
   "id": "3966899e-3a58-4c8e-aeb5-2888c3784c32",
   "metadata": {},
   "source": [
    "### Stock Market ML Classification Model"
   ]
  },
  {
   "cell_type": "code",
   "execution_count": null,
   "id": "cebae82e-97b9-43d9-90f6-75f7e9e42188",
   "metadata": {},
   "outputs": [],
   "source": []
  },
  {
   "cell_type": "markdown",
   "id": "af5d2511-a0fc-4d50-b92d-875aa65fe2f0",
   "metadata": {
    "tags": []
   },
   "source": [
    "### Stock Market Prediction Using Prophet Package"
   ]
  },
  {
   "cell_type": "code",
   "execution_count": 1,
   "id": "dc5cfa09-638c-4cbc-bdc0-92062e7fb872",
   "metadata": {},
   "outputs": [
    {
     "name": "stderr",
     "output_type": "stream",
     "text": [
      "Importing plotly failed. Interactive plots will not work.\n"
     ]
    },
    {
     "name": "stdin",
     "output_type": "stream",
     "text": [
      "Please select your stock and make sure the name is correct: AAL\n",
      "Please select the start date of the stocks you would like to collect: in YYYY-MM-DD format 2020-01-01\n",
      "Please select the end date of the stocks you would like to collect: in YYYY-MM-DD format 2022-01-01\n"
     ]
    },
    {
     "name": "stdout",
     "output_type": "stream",
     "text": [
      "[*********************100%***********************]  1 of 1 completed\n"
     ]
    }
   ],
   "source": [
    "# data access, I use the an API package \"yfinance\", \n",
    "\n",
    "\n",
    "regex = re.compile(\"[0-9]{4}\\-[0-9]{2}\\-[0-9]{2}\")\n",
    "\n",
    "\n",
    "def check_date_format(date):\n",
    "    match = re.match(regex, date)\n",
    "    \n",
    "    if (match):\n",
    "        return date\n",
    "    elif date == 'q':\n",
    "        return None\n",
    "    else: \n",
    "       return check_date_format(input(\"Invalid date, try again or press 'q' to quit: \"))\n",
    "        \n",
    "   \n",
    "def get_initial_data(stockname, start_date, end_date):\n",
    "    '''for start date and end date, means the start and end dates of the stocks you want to collect'''\n",
    "    # stockname = stockname    \n",
    "    # start_date = select_start_date\n",
    "    # end_date = select_end_date\n",
    "    data = yf.download(stockname, start = start_date, end = end_date)\n",
    "    return data\n",
    "\n",
    "stockname = input('Please select your stock and make sure the name is correct:')\n",
    "select_start_date = check_date_format(input('Please select the start date of the stocks you would like to collect: in YYYY-MM-DD format'))\n",
    "select_end_date = check_date_format(input('Please select the end date of the stocks you would like to collect: in YYYY-MM-DD format'))\n",
    "stockname = stockname    \n",
    "start_date = select_start_date\n",
    "end_date = select_end_date\n",
    "\n",
    "data = get_initial_data(stockname, start_date, end_date)\n"
   ]
  },
  {
   "cell_type": "code",
   "execution_count": 13,
   "id": "91e9ff7b-656c-4d2c-80d7-8e5d4518d6fc",
   "metadata": {},
   "outputs": [
    {
     "name": "stdin",
     "output_type": "stream",
     "text": [
      "How long you want to use Prophet to estimate stock price (in days)?  30\n"
     ]
    },
    {
     "name": "stderr",
     "output_type": "stream",
     "text": [
      "INFO:prophet:Disabling yearly seasonality. Run prophet with yearly_seasonality=True to override this.\n",
      "INFO:prophet:Disabling daily seasonality. Run prophet with daily_seasonality=True to override this.\n"
     ]
    },
    {
     "name": "stdout",
     "output_type": "stream",
     "text": [
      "Initial log joint probability = -23.0797\n",
      "    Iter      log prob        ||dx||      ||grad||       alpha      alpha0  # evals  Notes \n",
      "      99       927.448     0.0703249       514.574           1           1      115   \n",
      "    Iter      log prob        ||dx||      ||grad||       alpha      alpha0  # evals  Notes \n",
      "     199        954.15    0.00156836       162.462     0.07117       0.675      234   \n",
      "    Iter      log prob        ||dx||      ||grad||       alpha      alpha0  # evals  Notes \n",
      "     299       975.114    0.00114062        85.423      0.3351           1      365   \n",
      "    Iter      log prob        ||dx||      ||grad||       alpha      alpha0  # evals  Notes \n",
      "     309       975.822    0.00371891       174.085   4.755e-05       0.001      426  LS failed, Hessian reset \n",
      "     332       976.235   0.000300178       64.6675   4.314e-06       0.001      489  LS failed, Hessian reset \n",
      "     363       976.279   0.000134966       79.0538   1.996e-06       0.001      575  LS failed, Hessian reset \n",
      "     399       976.295   2.22373e-06        83.092           1           1      622   \n",
      "    Iter      log prob        ||dx||      ||grad||       alpha      alpha0  # evals  Notes \n",
      "     480       976.446   1.72411e-05       55.7694   2.215e-07       0.001      766  LS failed, Hessian reset \n",
      "     499       976.446   1.87901e-07       54.2455       2.257           1      798   \n",
      "    Iter      log prob        ||dx||      ||grad||       alpha      alpha0  # evals  Notes \n",
      "     505       976.446   4.06244e-08       61.3108      0.2609      0.2609      806   \n",
      "Optimization terminated normally: \n",
      "  Convergence detected: relative gradient magnitude is below tolerance\n"
     ]
    },
    {
     "data": {
      "text/html": [
       "<div>\n",
       "<style scoped>\n",
       "    .dataframe tbody tr th:only-of-type {\n",
       "        vertical-align: middle;\n",
       "    }\n",
       "\n",
       "    .dataframe tbody tr th {\n",
       "        vertical-align: top;\n",
       "    }\n",
       "\n",
       "    .dataframe thead th {\n",
       "        text-align: right;\n",
       "    }\n",
       "</style>\n",
       "<table border=\"1\" class=\"dataframe\">\n",
       "  <thead>\n",
       "    <tr style=\"text-align: right;\">\n",
       "      <th></th>\n",
       "      <th>ds</th>\n",
       "      <th>yhat</th>\n",
       "      <th>yhat_lower</th>\n",
       "      <th>yhat_upper</th>\n",
       "    </tr>\n",
       "  </thead>\n",
       "  <tbody>\n",
       "    <tr>\n",
       "      <th>530</th>\n",
       "      <td>2022-01-26</td>\n",
       "      <td>17.853920</td>\n",
       "      <td>15.328068</td>\n",
       "      <td>20.448778</td>\n",
       "    </tr>\n",
       "    <tr>\n",
       "      <th>531</th>\n",
       "      <td>2022-01-27</td>\n",
       "      <td>17.763839</td>\n",
       "      <td>15.267744</td>\n",
       "      <td>20.488935</td>\n",
       "    </tr>\n",
       "    <tr>\n",
       "      <th>532</th>\n",
       "      <td>2022-01-28</td>\n",
       "      <td>17.680346</td>\n",
       "      <td>15.142258</td>\n",
       "      <td>20.263489</td>\n",
       "    </tr>\n",
       "    <tr>\n",
       "      <th>533</th>\n",
       "      <td>2022-01-29</td>\n",
       "      <td>16.781794</td>\n",
       "      <td>14.216492</td>\n",
       "      <td>19.165629</td>\n",
       "    </tr>\n",
       "    <tr>\n",
       "      <th>534</th>\n",
       "      <td>2022-01-30</td>\n",
       "      <td>16.763431</td>\n",
       "      <td>14.117693</td>\n",
       "      <td>19.299431</td>\n",
       "    </tr>\n",
       "  </tbody>\n",
       "</table>\n",
       "</div>"
      ],
      "text/plain": [
       "            ds       yhat  yhat_lower  yhat_upper\n",
       "530 2022-01-26  17.853920   15.328068   20.448778\n",
       "531 2022-01-27  17.763839   15.267744   20.488935\n",
       "532 2022-01-28  17.680346   15.142258   20.263489\n",
       "533 2022-01-29  16.781794   14.216492   19.165629\n",
       "534 2022-01-30  16.763431   14.117693   19.299431"
      ]
     },
     "execution_count": 13,
     "metadata": {},
     "output_type": "execute_result"
    }
   ],
   "source": [
    "# estimated result, only show the predict values in the end of periods.\n",
    "data['ds'] = data.index\n",
    "data_prophet = data[['ds', 'Close']]\n",
    "data_prophet = data_prophet.rename(columns = {'Close': 'y'})\n",
    "\n",
    "m = Prophet()\n",
    "dataframe = data_prophet \n",
    "periods_q = int(input(\"How long you want to use Prophet to estimate stock price (in days)? \"))\n",
    "\n",
    "def future_price_prediction(dataframe, periods):\n",
    "    '''let users choose how long they wnat to use Prophet to estimate, it will give use the latest result as the predicted table is too long.'''\n",
    "    m.fit(dataframe)\n",
    "    future = m.make_future_dataframe(periods = periods_q)\n",
    "    forecast = m.predict(future)\n",
    "    latest_pred = forecast[['ds', 'yhat', 'yhat_lower', 'yhat_upper']].tail()\n",
    "    return latest_pred\n",
    "future_price_prediction(dataframe, periods_q)\n"
   ]
  },
  {
   "cell_type": "code",
   "execution_count": null,
   "id": "a98063bc-e396-4381-9c3f-a7516cec45c2",
   "metadata": {},
   "outputs": [],
   "source": []
  },
  {
   "cell_type": "code",
   "execution_count": null,
   "id": "a97deda2-4761-496b-b2f6-0c05097f9c71",
   "metadata": {},
   "outputs": [],
   "source": []
  }
 ],
 "metadata": {
  "environment": {
   "kernel": "python3",
   "name": "common-cpu.m90",
   "type": "gcloud",
   "uri": "gcr.io/deeplearning-platform-release/base-cpu:m90"
  },
  "kernelspec": {
   "display_name": "Python 3",
   "language": "python",
   "name": "python3"
  },
  "language_info": {
   "codemirror_mode": {
    "name": "ipython",
    "version": 3
   },
   "file_extension": ".py",
   "mimetype": "text/x-python",
   "name": "python",
   "nbconvert_exporter": "python",
   "pygments_lexer": "ipython3",
   "version": "3.7.12"
  }
 },
 "nbformat": 4,
 "nbformat_minor": 5
}
