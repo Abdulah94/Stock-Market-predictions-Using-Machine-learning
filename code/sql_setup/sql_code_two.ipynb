{
 "cells": [
  {
   "cell_type": "code",
   "execution_count": null,
   "id": "8e902351-17f0-45d4-bb39-93ebaa03b0c4",
   "metadata": {},
   "outputs": [],
   "source": [
    "import csv\n",
    "import os\n",
    "import pandas as pd\n",
    "from sqlalchemy.types import Date, Numeric\n",
    "from database import engine"
   ]
  },
  {
   "cell_type": "code",
   "execution_count": null,
   "id": "f7405f7e-f0f2-44cb-8dae-ccd7cb34eb47",
   "metadata": {},
   "outputs": [],
   "source": [
    "def import_csv_as_dataframe(variable):\n",
    "    ''' Takes the variable name from [adj_close, close_price, high_price, low_price, open_price, volume] and return a dataframe for all S&P500 '''\n",
    "    file_path = os.path.join(\"../data_two\", variable+\".csv\")\n",
    "    df = pd.read_csv(file_path)       \n",
    "    return df"
   ]
  },
  {
   "cell_type": "code",
   "execution_count": null,
   "id": "0e06fefa-16eb-4711-9384-3fb72fe1a277",
   "metadata": {},
   "outputs": [],
   "source": [
    "adj_close = import_csv_as_dataframe(\"adj_close\")\n",
    "close_price = import_csv_as_dataframe(\"close_price\")\n",
    "high_price = import_csv_as_dataframe('high_price')\n",
    "low_price = import_csv_as_dataframe(\"low_price\")\n",
    "open_price = import_csv_as_dataframe(\"open_price\")\n",
    "volume = import_csv_as_dataframe(\"volume\")"
   ]
  }
 ],
 "metadata": {
  "environment": {
   "kernel": "python3",
   "name": "common-cpu.m91",
   "type": "gcloud",
   "uri": "gcr.io/deeplearning-platform-release/base-cpu:m91"
  },
  "kernelspec": {
   "display_name": "Python 3",
   "language": "python",
   "name": "python3"
  },
  "language_info": {
   "codemirror_mode": {
    "name": "ipython",
    "version": 3
   },
   "file_extension": ".py",
   "mimetype": "text/x-python",
   "name": "python",
   "nbconvert_exporter": "python",
   "pygments_lexer": "ipython3",
   "version": "3.7.12"
  }
 },
 "nbformat": 4,
 "nbformat_minor": 5
}
