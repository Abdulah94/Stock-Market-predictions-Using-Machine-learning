{
 "cells": [
  {
   "cell_type": "code",
   "execution_count": 3,
   "id": "479749a8-78c0-4f32-8eb0-73d0c84af284",
   "metadata": {},
   "outputs": [],
   "source": [
    "import os\n",
    "from dotenv import load_dotenv\n",
    "from sqlalchemy import create_engine"
   ]
  },
  {
   "cell_type": "code",
   "execution_count": 4,
   "id": "a41a8c02-7ab6-4fbb-94cb-82e9bea54620",
   "metadata": {},
   "outputs": [],
   "source": [
    "load_dotenv()\n",
    "\n",
    "DATABASE_USERNAME = os.environ[\"DATABASE_USERNAME\"]\n",
    "DATABASE_PASSWORD = os.environ[\"DATABASE_PASSWORD\"]\n",
    "DATABASE_HOST = os.environ[\"DATABASE_HOST\"]\n",
    "DATABASE_PORT = os.environ[\"DATABASE_PORT\"]\n",
    "DATABASE_DATABASE = os.environ[\"DATABASE_DATABASE\"]\n",
    "\n",
    "SQLALCHEMY_DATABASE_URL = f\"postgresql://{DATABASE_USERNAME}:{DATABASE_PASSWORD}@{DATABASE_HOST}:{DATABASE_PORT}/{DATABASE_DATABASE}\"\n",
    "\n",
    "engine = create_engine(SQLALCHEMY_DATABASE_URL)"
   ]
  },
  {
   "cell_type": "code",
   "execution_count": null,
   "id": "ae83bed4-baf0-49bf-89df-35bf3570dfd6",
   "metadata": {},
   "outputs": [],
   "source": []
  }
 ],
 "metadata": {
  "environment": {
   "kernel": "python3",
   "name": "common-cpu.m91",
   "type": "gcloud",
   "uri": "gcr.io/deeplearning-platform-release/base-cpu:m91"
  },
  "kernelspec": {
   "display_name": "Python 3",
   "language": "python",
   "name": "python3"
  },
  "language_info": {
   "codemirror_mode": {
    "name": "ipython",
    "version": 3
   },
   "file_extension": ".py",
   "mimetype": "text/x-python",
   "name": "python",
   "nbconvert_exporter": "python",
   "pygments_lexer": "ipython3",
   "version": "3.7.12"
  }
 },
 "nbformat": 4,
 "nbformat_minor": 5
}
