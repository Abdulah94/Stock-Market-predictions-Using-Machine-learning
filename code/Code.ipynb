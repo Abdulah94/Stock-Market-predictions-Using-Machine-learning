{
 "cells": [
  {
   "cell_type": "markdown",
   "id": "1ae61834-3ad6-4c46-9373-2d8b9da7785d",
   "metadata": {},
   "source": [
    "## Stock Market predictions Using Machine learning"
   ]
  },
  {
   "cell_type": "markdown",
   "id": "fbb25407-1114-4383-ba2f-365a5d5576b6",
   "metadata": {},
   "source": [
    "#### Importing Libraries"
   ]
  },
  {
   "cell_type": "code",
   "execution_count": 1,
   "id": "835b437e-1e97-4ce7-bbbc-c3f22484eeac",
   "metadata": {},
   "outputs": [],
   "source": [
    "%load_ext lab_black"
   ]
  },
  {
   "cell_type": "code",
   "execution_count": 17,
   "id": "cbafa5a7-bc2f-4fec-920b-ebefbb148730",
   "metadata": {},
   "outputs": [],
   "source": [
    "import yfinance as yf\n",
    "import pandas as pd\n",
    "import numpy as np\n",
    "import plotly.graph_objs as go\n",
    "import talib as ta\n",
    "from sklearn.svm import SVC\n",
    "from sklearn.preprocessing import StandardScaler\n",
    "from sklearn.model_selection import RandomizedSearchCV\n",
    "from sklearn.model_selection import TimeSeriesSplit\n",
    "from sklearn.pipeline import Pipeline\n",
    "from sklearn.metrics import confusion_matrix\n",
    "from sklearn.metrics import classification_report\n",
    "import warnings\n",
    "\n",
    "warnings.filterwarnings(\"ignore\")\n",
    "import matplotlib.pyplot as plt\n",
    "import seaborn as sns\n",
    "import import_ipynb\n",
    "from database import engine\n",
    "from prophet import Prophet\n",
    "from prophet.plot import add_changepoints_to_plot\n",
    "import re\n",
    "import bt"
   ]
  },
  {
   "cell_type": "markdown",
   "id": "58261c4c-4887-4154-af10-02ad4553948d",
   "metadata": {},
   "source": [
    "### Queries"
   ]
  },
  {
   "cell_type": "code",
   "execution_count": 28,
   "id": "38c58c73-7fb1-4435-b522-29d20bf1fc26",
   "metadata": {},
   "outputs": [],
   "source": [
    "query_1 = \"\"\"\n",
    "select\n",
    "\t\"Date\" as \"Date\",\n",
    "\t\"AAPL\" as \"Close\"\n",
    "from\n",
    "\tclose_price cp\n",
    "order by \n",
    "    \"Date\" desc\n",
    "    \n",
    "    \"\"\"\n",
    "\n",
    "query_2 = \"\"\" \n",
    "select \n",
    "\tv.\"Date\" as \"Date\",\n",
    "\top.\"GOOG\" as \"Open\",\n",
    "\thp.\"GOOG\" as \"High\",\n",
    "\tlp.\"GOOG\" as \"Low\",\n",
    "\tcp.\"GOOG\" as \"Close\",\n",
    "\tac.\"GOOG\" as \"Adj Close\",\n",
    "\tv.\"GOOG\" as \"Volume\"\n",
    "\n",
    "FROM \n",
    "\tclose_price cp left join adj_close ac on cp.\"Date\" = ac.\"Date\"\n",
    "\tleft join volume v on cp.\"Date\" = v.\"Date\"\n",
    "\tleft join open_price op on cp.\"Date\" = op.\"Date\"\n",
    "\tleft join high_price hp on cp.\"Date\" = hp.\"Date\"\n",
    "\tleft join low_price lp on cp.\"Date\" = lp.\"Date\"\n",
    "\n",
    "    \"\"\""
   ]
  },
  {
   "cell_type": "markdown",
   "id": "b2194ad7-4735-4b69-a67f-b0e647c37e3a",
   "metadata": {},
   "source": [
    "### Technical Analysis"
   ]
  },
  {
   "cell_type": "code",
   "execution_count": 30,
   "id": "c8ec279a-4871-438c-b546-bfcb8407029e",
   "metadata": {},
   "outputs": [
    {
     "name": "stdout",
     "output_type": "stream",
     "text": [
      "None\n"
     ]
    }
   ],
   "source": [
    "# RSI\n",
    "\n",
    "\n",
    "def RSI(ticker):\n",
    "    \"\"\"Calculate RSI\"\"\"\n",
    "    stock_data = pd.read_sql_query(query_1, engine)\n",
    "    stock_data[\"RSI\"] = ta.RSI(stock_data[\"Close\"], timeperiod=14).to_frame()\n",
    "    \"\"\"Create subplots\"\"\"\n",
    "    fig, (ax1, ax2) = plt.subplots(2)\n",
    "    ax1.set_ylabel(\"Price\")\n",
    "    ax1.plot(stock_data[\"Close\"])\n",
    "    ax2.set_ylabel(\"RSI\")\n",
    "    ax2.plot(stock_data[\"RSI\"], color=\"orangered\")\n",
    "    ax1.set_title(\"Price and RSI\")\n",
    "    plt.show()\n",
    "\n",
    "    return\n",
    "\n",
    "\n",
    "print(RSI(\"AAPL\"))"
   ]
  },
  {
   "cell_type": "code",
   "execution_count": 31,
   "id": "dc4d68b2-5a7e-4914-8c07-36fe79f3c5a1",
   "metadata": {},
   "outputs": [
    {
     "name": "stdout",
     "output_type": "stream",
     "text": [
      "None\n"
     ]
    }
   ],
   "source": [
    "# Bolinger Bands\n",
    "def BB(ticker):\n",
    "    stock_data = pd.read_sql_query(query_1, engine)\n",
    "    # Define the Bollinger Bands with 1-sd\n",
    "    upper_1sd, mid_1sd, lower_1sd = ta.BBANDS(\n",
    "        stock_data[\"Close\"], nbdevup=2, nbdevdn=2, timeperiod=20\n",
    "    )\n",
    "    # Plot the upper and lower Bollinger Bands\n",
    "    plt.plot(stock_data[\"Close\"], color=\"green\", label=\"Price\")\n",
    "    plt.plot(upper_1sd, color=\"tomato\", label=\"Upper 1sd\")\n",
    "    plt.plot(lower_1sd, color=\"tomato\", label=\"Lower 1sd\")\n",
    "\n",
    "    # Customize and show the plot\n",
    "    plt.legend(loc=\"upper left\")\n",
    "    plt.title(\"Bollinger Bands (2sd)\")\n",
    "    plt.show()\n",
    "    return\n",
    "\n",
    "\n",
    "print(BB(\"GOOG\"))"
   ]
  },
  {
   "cell_type": "code",
   "execution_count": 32,
   "id": "50dcc4ca-3b26-4495-bcbe-c85c09ace37d",
   "metadata": {},
   "outputs": [
    {
     "name": "stdout",
     "output_type": "stream",
     "text": [
      "None\n"
     ]
    }
   ],
   "source": [
    "# ADX\n",
    "\n",
    "\n",
    "def ADX(ticker):\n",
    "    stock_data = pd.read_sql_query(query_2, engine)\n",
    "    \"\"\"Calculate ADX\"\"\"\n",
    "    stock_data[\"ADX\"] = ta.ADX(\n",
    "        stock_data[\"High\"], stock_data[\"Low\"], stock_data[\"Close\"]\n",
    "    )\n",
    "    \"\"\"Create subplots\"\"\"\n",
    "    fig, (ax1, ax2) = plt.subplots(2)\n",
    "    \"\"\" Plot ADX with the price \"\"\"\n",
    "    ax1.set_ylabel(\"Price\")\n",
    "    ax1.plot(stock_data[\"Close\"])\n",
    "    ax2.set_ylabel(\"ADX\")\n",
    "    ax2.plot(stock_data[\"ADX\"], color=\"red\")\n",
    "    ax1.set_title(\"Price and ADX\")\n",
    "    plt.show()\n",
    "    return\n",
    "\n",
    "\n",
    "print(ADX(\"GOOG\"))"
   ]
  },
  {
   "cell_type": "markdown",
   "id": "3966899e-3a58-4c8e-aeb5-2888c3784c32",
   "metadata": {},
   "source": [
    "### ML Classification Model for Stock Market Prediction"
   ]
  },
  {
   "cell_type": "code",
   "execution_count": 33,
   "id": "cebae82e-97b9-43d9-90f6-75f7e9e42188",
   "metadata": {},
   "outputs": [],
   "source": [
    "def add_features(df):\n",
    "    \"\"\"This function takes the stock dataframe, adds to it new columns of different technical indicators as predictive variables for the model to use.\"\"\"\n",
    "\n",
    "    n = 7\n",
    "    df[\"RSI\"] = ta.RSI(np.array(df[\"Close\"].shift(1)), timeperiod=n)\n",
    "    df[\"MA\"] = df[\"Close\"].shift(1).rolling(window=n).mean()\n",
    "    df[\"Corr\"] = df[\"Close\"].shift(1).rolling(window=n).corr(df[\"MA\"].shift(1))\n",
    "    df[\"SAR\"] = ta.SAR(\n",
    "        np.array(df[\"High\"].shift(1)), np.array(df[\"Low\"].shift(1)), 0.2, 0.2\n",
    "    )\n",
    "    df[\"ADX\"] = ta.ADX(\n",
    "        np.array(df[\"High\"].shift(1)),\n",
    "        np.array(df[\"Low\"].shift(1)),\n",
    "        np.array(df[\"Open\"]),\n",
    "        timeperiod=n,\n",
    "    )\n",
    "    df[\"Prev_High\"] = df[\"High\"].shift(1)\n",
    "    df[\"Prev_Low\"] = df[\"Low\"].shift(1)\n",
    "    df[\"Prev_Close\"] = df[\"Close\"].shift(1)\n",
    "    df[\"Open_change\"] = df[\"Open\"] - df[\"Open\"].shift(1)\n",
    "    df[\"Open_close_change\"] = df[\"Open\"] - df[\"Prev_Close\"]\n",
    "    df[\"Return\"] = (df[\"Open\"].shift(-1) - df[\"Open\"]) / df[\"Open\"]\n",
    "    df[\"return_lag1\"] = df[\"Return\"].shift(1)\n",
    "    df[\"return_lag2\"] = df[\"Return\"].shift(2)\n",
    "    df[\"return_lag3\"] = df[\"Return\"].shift(3)\n",
    "    df = df.dropna()\n",
    "\n",
    "    return df"
   ]
  },
  {
   "cell_type": "code",
   "execution_count": 34,
   "id": "b5408247-6df5-4b3c-a8aa-ca77a5d8e76a",
   "metadata": {},
   "outputs": [],
   "source": [
    "def add_signals(df):\n",
    "    \"\"\"This function takes a dataframe and adds a new column for signals, the signals are based on the distribution of the observed returns of the stock during the\n",
    "    selected period, a 'Sell' signal will be assigned for all observed returns that lie below the 40th quantile (negative returns) to signal a predicted loss,\n",
    "    similarly a 'Buy' signal will be assigned for all observed returns that lie above the 60th quantile (positive returns) to signal a predicted gain, and\n",
    "    a 'Hold' signal otherwise, mostly small percentage changes in returns.\"\"\"\n",
    "\n",
    "    df[\"Signal\"] = \"Hold\"\n",
    "    df.loc[df[\"Return\"] > df[\"Return\"].quantile(q=0.60), \"Signal\"] = \"Buy\"\n",
    "    df.loc[df[\"Return\"] < df[\"Return\"].quantile(q=0.40), \"Signal\"] = \"Sell\"\n",
    "\n",
    "    return df"
   ]
  },
  {
   "cell_type": "code",
   "execution_count": 35,
   "id": "41cca04c-d428-440e-bd31-712e9cb20715",
   "metadata": {},
   "outputs": [],
   "source": [
    "def get_training_split(df):\n",
    "    \"\"\"This function takes a dataframe and returns one dataframe and one pandas series, the returned dataframe conatins the features of the training dataset,\n",
    "    and the returned series contain the related signals of the training dataset.\"\"\"\n",
    "\n",
    "    split = int(len(df) * 0.8)\n",
    "\n",
    "    features = df.drop([\"Close\", \"Signal\", \"High\", \"Low\", \"Volume\", \"Return\"], axis=1)\n",
    "    signals = df[\"Signal\"]\n",
    "\n",
    "    training_features_df = features[:split]\n",
    "    training_signals_series = signals[:split]\n",
    "\n",
    "    return training_features_df, training_signals_series"
   ]
  },
  {
   "cell_type": "code",
   "execution_count": 36,
   "id": "4fbb5a26-f41c-40ce-a415-ec531735ffd3",
   "metadata": {},
   "outputs": [],
   "source": [
    "def get_testing_split(df):\n",
    "    \"\"\"This function takes a dataframe and returns one dataframe and one pandas series, the returned dataframe conatins the features of the testing dataset,\n",
    "    and the returned series contains the related signals of the testing dataset.\"\"\"\n",
    "\n",
    "    split = int(len(df) * 0.8)\n",
    "\n",
    "    features = df.drop([\"Close\", \"Signal\", \"High\", \"Low\", \"Volume\", \"Return\"], axis=1)\n",
    "    signals = df[\"Signal\"]\n",
    "\n",
    "    testing_features_df = features[split:]\n",
    "    testing_signals_series = signals[split:]\n",
    "\n",
    "    return testing_features_df, testing_signals_series"
   ]
  },
  {
   "cell_type": "code",
   "execution_count": 37,
   "id": "2690f982-7a00-481c-830b-134834600e81",
   "metadata": {},
   "outputs": [],
   "source": [
    "def prediction_model(trainF, trainS, testF):\n",
    "    \"\"\"This function takes two dataframes and one pandas series. We will pass the training features dataframe, training actual signals series,\n",
    "    and the testing features dataframe that we want the model to predict. The function returns a pandas series of the predicted signals.\"\"\"\n",
    "\n",
    "    c = [10, 100, 1000, 10000]\n",
    "    g = [1e-2, 1e-1, 1e0]\n",
    "    parameters = {\"svc__C\": c, \"svc__gamma\": g, \"svc__kernel\": [\"rbf\"]}\n",
    "    steps = [(\"scaler\", StandardScaler()), (\"svc\", SVC())]\n",
    "    pipeline = Pipeline(steps)\n",
    "\n",
    "    rcv = RandomizedSearchCV(pipeline, parameters, cv=TimeSeriesSplit(n_splits=2))\n",
    "    rcv.fit(trainF, trainS)\n",
    "    best_C = rcv.best_params_[\"svc__C\"]\n",
    "    best_kernel = rcv.best_params_[\"svc__kernel\"]\n",
    "    best_gamma = rcv.best_params_[\"svc__gamma\"]\n",
    "\n",
    "    cls = SVC(C=best_C, kernel=best_kernel, gamma=best_gamma)\n",
    "    ss = StandardScaler()\n",
    "\n",
    "    cls.fit(ss.fit_transform(trainF), trainS)\n",
    "    predicted_signals = cls.predict(ss.transform(testF))\n",
    "\n",
    "    return predicted_signals"
   ]
  },
  {
   "cell_type": "code",
   "execution_count": 38,
   "id": "8fc717ba-6e02-4278-92d5-0d6353a139a7",
   "metadata": {},
   "outputs": [],
   "source": [
    "def plot_confusion_matrix(array):\n",
    "    \"\"\"This function takes an array (confusion matrix) and returns a plot to visualise the performance.\"\"\"\n",
    "\n",
    "    plt.title(\"Confusion Matrix\", fontsize=16)\n",
    "    plt.xticks(fontsize=14)\n",
    "    plt.yticks(fontsize=14)\n",
    "\n",
    "    ax = plt.subplot()\n",
    "    sns.heatmap(array, annot=True, ax=ax)\n",
    "\n",
    "    ax.xaxis.set_ticklabels([\"Sell\", \"Hold\", \"Buy\"])\n",
    "    ax.yaxis.set_ticklabels([\"Sell\", \"Hold\", \"Buy\"])\n",
    "\n",
    "    return plt.show()"
   ]
  },
  {
   "cell_type": "code",
   "execution_count": 39,
   "id": "103c2c8d-7022-445a-a25e-ec4f2481a5f3",
   "metadata": {},
   "outputs": [],
   "source": [
    "def classification_model_evaluation(df):\n",
    "    \"\"\"This function takes the stock's dataframe, mutates it in the desired format, splits the dataset into a training and testing datasets, gets the model predictions\n",
    "    and evaluates it, and then returns the confusion matrix plot and the classification accuracy report (out-of-sample accuracy is based on the testing dataset).\"\"\"\n",
    "\n",
    "    df1 = add_features(df)\n",
    "    df2 = add_signals(df1)\n",
    "\n",
    "    trainF, trainS = get_training_split(df2)\n",
    "    testF, testS = get_testing_split(df2)\n",
    "\n",
    "    predicted_signals = prediction_model(trainF, trainS, testF)\n",
    "\n",
    "    confusion_matrix_ = confusion_matrix(testS, predicted_signals)\n",
    "    confusion_matrix_plot = plot_confusion_matrix(confusion_matrix_)\n",
    "    out_of_sample_accuracy = classification_report(testS, predicted_signals)\n",
    "\n",
    "    return print(confusion_matrix_plot, out_of_sample_accuracy)"
   ]
  },
  {
   "cell_type": "markdown",
   "id": "038d44b5-b20b-4b52-aea4-600acd488c85",
   "metadata": {},
   "source": [
    "#### Model Evaluation"
   ]
  },
  {
   "cell_type": "markdown",
   "id": "f6814857-a8e4-4008-a5f2-5271f96438b3",
   "metadata": {},
   "source": [
    "#####     The model's performance varies from stock to stock, some stocks got a high accuracy rate ( > 50% ) and some other stocks were harder to accuratly predict ( < 50% ) and had a low accuracy rate. However, out of 15 randomly selected stocks we got an average accuracy rate of 58%. We listed four examples below. "
   ]
  },
  {
   "cell_type": "markdown",
   "id": "a4b57e75-ee67-4ccd-bb58-ac11a3b33126",
   "metadata": {},
   "source": [
    "##### 1) Amazon"
   ]
  },
  {
   "cell_type": "code",
   "execution_count": 40,
   "id": "9d662e12-fe82-4218-b746-28b901bcf880",
   "metadata": {},
   "outputs": [],
   "source": [
    "Amazon_query = \"\"\" \n",
    "select \n",
    "\tv.\"Date\" as \"Date\",\n",
    "\top.\"AMZN\" as \"Open\",\n",
    "\thp.\"AMZN\" as \"High\",\n",
    "\tlp.\"AMZN\" as \"Low\",\n",
    "\tcp.\"AMZN\" as \"Close\",\n",
    "\tac.\"AMZN\" as \"Adj Close\",\n",
    "\tv.\"AMZN\" as \"Volume\"\n",
    "\n",
    "FROM \n",
    "\tclose_price cp left join adj_close ac on cp.\"Date\" = ac.\"Date\"\n",
    "\tleft join volume v on cp.\"Date\" = v.\"Date\"\n",
    "\tleft join open_price op on cp.\"Date\" = op.\"Date\"\n",
    "\tleft join high_price hp on cp.\"Date\" = hp.\"Date\"\n",
    "\tleft join low_price lp on cp.\"Date\" = lp.\"Date\"\n",
    "\n",
    "    \"\"\""
   ]
  },
  {
   "cell_type": "code",
   "execution_count": 41,
   "id": "0c4df8c4-de3d-4f17-ac6e-4d6864c0c6c1",
   "metadata": {},
   "outputs": [],
   "source": [
    "amzn = pd.read_sql_query(\n",
    "    Amazon_query, engine\n",
    ")  # could not pass this to my function because I get a type error, so I used yfinance below."
   ]
  },
  {
   "cell_type": "code",
   "execution_count": 42,
   "id": "53796fc9-7573-4294-a201-69180b00b92c",
   "metadata": {},
   "outputs": [
    {
     "name": "stdout",
     "output_type": "stream",
     "text": [
      "[*********************100%***********************]  1 of 1 completed\n"
     ]
    }
   ],
   "source": [
    "amzn = yf.download(\"AMZN\", start=\"2019-04-29\", end=\"2022-04-29\")"
   ]
  },
  {
   "cell_type": "code",
   "execution_count": 43,
   "id": "2402ac79-4ea1-4f44-99bc-abbaea19a8ad",
   "metadata": {},
   "outputs": [
    {
     "name": "stdout",
     "output_type": "stream",
     "text": [
      "None               precision    recall  f1-score   support\n",
      "\n",
      "         Buy       0.77      0.86      0.81        56\n",
      "        Hold       0.50      0.32      0.39        28\n",
      "        Sell       0.78      0.83      0.81        65\n",
      "\n",
      "    accuracy                           0.74       149\n",
      "   macro avg       0.69      0.67      0.67       149\n",
      "weighted avg       0.73      0.74      0.73       149\n",
      "\n"
     ]
    }
   ],
   "source": [
    "classification_model_evaluation(amzn)"
   ]
  },
  {
   "cell_type": "markdown",
   "id": "612e8fe0-b82c-4226-84ed-78d8dd65aa2d",
   "metadata": {},
   "source": [
    "###### The model's accuracy in predicting Amazon's stock movement direction is 74%. "
   ]
  },
  {
   "cell_type": "markdown",
   "id": "eb904078-0bf2-4ad4-981e-dff209a597e8",
   "metadata": {},
   "source": [
    "##### 2) Boeing"
   ]
  },
  {
   "cell_type": "code",
   "execution_count": 44,
   "id": "86102a6a-b440-4549-ab56-4a6e2a8f0ff6",
   "metadata": {},
   "outputs": [
    {
     "name": "stdout",
     "output_type": "stream",
     "text": [
      "[*********************100%***********************]  1 of 1 completed\n"
     ]
    }
   ],
   "source": [
    "Boeing = yf.download(\"BA\", start=\"2019-04-29\", end=\"2022-04-29\")"
   ]
  },
  {
   "cell_type": "code",
   "execution_count": 45,
   "id": "c59327cb-dc9d-4026-b27d-2d1f626db96e",
   "metadata": {},
   "outputs": [
    {
     "name": "stdout",
     "output_type": "stream",
     "text": [
      "None               precision    recall  f1-score   support\n",
      "\n",
      "         Buy       0.68      0.79      0.73        63\n",
      "        Hold       0.27      0.12      0.16        26\n",
      "        Sell       0.75      0.80      0.77        60\n",
      "\n",
      "    accuracy                           0.68       149\n",
      "   macro avg       0.57      0.57      0.56       149\n",
      "weighted avg       0.64      0.68      0.65       149\n",
      "\n"
     ]
    }
   ],
   "source": [
    "classification_model_evaluation(Boeing)"
   ]
  },
  {
   "cell_type": "markdown",
   "id": "3695ac55-4bce-4318-8a57-e8a4fe69c4e1",
   "metadata": {},
   "source": [
    "###### The model's accuracy in predicting Boeing's stock movement direction is 68%. "
   ]
  },
  {
   "cell_type": "markdown",
   "id": "4c6371b5-f62c-402e-bca3-74ac36941aed",
   "metadata": {},
   "source": [
    "##### 3) eBay"
   ]
  },
  {
   "cell_type": "code",
   "execution_count": 46,
   "id": "a2faf5da-55b0-42b7-ab9f-45d5200ed1be",
   "metadata": {},
   "outputs": [
    {
     "name": "stdout",
     "output_type": "stream",
     "text": [
      "[*********************100%***********************]  1 of 1 completed\n"
     ]
    }
   ],
   "source": [
    "ebay = yf.download(\"EBAY\", start=\"2019-04-29\", end=\"2022-04-29\")"
   ]
  },
  {
   "cell_type": "code",
   "execution_count": 47,
   "id": "6cb932f2-77c0-4a65-8bef-baed210ab2f1",
   "metadata": {},
   "outputs": [
    {
     "name": "stdout",
     "output_type": "stream",
     "text": [
      "None               precision    recall  f1-score   support\n",
      "\n",
      "         Buy       0.64      0.98      0.78        55\n",
      "        Hold       0.17      0.19      0.18        21\n",
      "        Sell       0.88      0.51      0.64        73\n",
      "\n",
      "    accuracy                           0.64       149\n",
      "   macro avg       0.57      0.56      0.53       149\n",
      "weighted avg       0.69      0.64      0.63       149\n",
      "\n"
     ]
    }
   ],
   "source": [
    "classification_model_evaluation(ebay)"
   ]
  },
  {
   "cell_type": "markdown",
   "id": "7f9c67dc-4e02-4482-889f-589712f43568",
   "metadata": {},
   "source": [
    "###### The model's accuracy in predicting eBay's stock movement direction is 63%. "
   ]
  },
  {
   "cell_type": "markdown",
   "id": "4f7de6d7-c5b1-45bc-a1e3-137b921dd98e",
   "metadata": {},
   "source": [
    "##### 4) Allstate"
   ]
  },
  {
   "cell_type": "code",
   "execution_count": 48,
   "id": "6c82a85c-16b3-495b-bb7c-f77aaf56f72b",
   "metadata": {},
   "outputs": [
    {
     "name": "stdout",
     "output_type": "stream",
     "text": [
      "[*********************100%***********************]  1 of 1 completed\n"
     ]
    }
   ],
   "source": [
    "allstate = yf.download(\"ALL\", start=\"2019-04-29\", end=\"2022-04-29\")"
   ]
  },
  {
   "cell_type": "code",
   "execution_count": 49,
   "id": "63405a25-1a16-44fa-be64-a9ffa3e02cda",
   "metadata": {},
   "outputs": [
    {
     "name": "stdout",
     "output_type": "stream",
     "text": [
      "None               precision    recall  f1-score   support\n",
      "\n",
      "         Buy       0.49      0.84      0.62        55\n",
      "        Hold       0.33      0.27      0.30        33\n",
      "        Sell       0.76      0.36      0.49        61\n",
      "\n",
      "    accuracy                           0.52       149\n",
      "   macro avg       0.53      0.49      0.47       149\n",
      "weighted avg       0.57      0.52      0.50       149\n",
      "\n"
     ]
    }
   ],
   "source": [
    "classification_model_evaluation(allstate)"
   ]
  },
  {
   "cell_type": "markdown",
   "id": "484cd9e7-620b-4318-a915-2517d6a042a5",
   "metadata": {},
   "source": [
    "### Stock Market Prediction Using Prophet Package"
   ]
  },
  {
   "cell_type": "code",
   "execution_count": 98,
   "id": "163ab109-e95d-48cf-b62a-1e1110018905",
   "metadata": {},
   "outputs": [],
   "source": [
    "# data access function\n",
    "\n",
    "\n",
    "regex = re.compile(\"[0-9]{4}\\-[0-9]{2}\\-[0-9]{2}\")\n",
    "\n",
    "\n",
    "def check_date_format(date):\n",
    "    match = re.match(regex, date)\n",
    "\n",
    "    if match:\n",
    "        return date\n",
    "    elif date == \"q\":\n",
    "        return None\n",
    "    else:\n",
    "        return check_date_format(\n",
    "            input(\"Invalid date, try again or press 'q' to quit: \")\n",
    "        )\n",
    "\n",
    "\n",
    "def get_initial_data(stockname, start_date, end_date):\n",
    "    \"\"\"for start date and end date, means the start and end dates of the stocks you want to collect\"\"\"\n",
    "    # stockname = stockname\n",
    "    # start_date = select_start_date\n",
    "    # end_date = select_end_date\n",
    "    data = yf.download(stockname, start=start_date, end=end_date)\n",
    "    return data"
   ]
  },
  {
   "cell_type": "code",
   "execution_count": 99,
   "id": "8b3861ce-fc13-4db3-8566-e13d66636853",
   "metadata": {},
   "outputs": [],
   "source": [
    "def get_prophet_data(data):\n",
    "    data[\"ds\"] = data.index\n",
    "    data_prophet = data[[\"ds\", \"Close\"]]\n",
    "    data_prophet = data_prophet.rename(columns={\"Close\": \"y\"})\n",
    "    return data_prophet\n",
    "\n",
    "\n",
    "def future_price_prediction(dataframe, periods):\n",
    "    \"\"\"let users choose how long they wnat to use Prophet to estimate, it will give use the latest result as the predicted table is too long.\"\"\"\n",
    "    m.fit(dataframe)\n",
    "    future = m.make_future_dataframe(periods=periods_q)\n",
    "    forecast = m.predict(future)\n",
    "    latest_pred = forecast[[\"ds\", \"yhat\", \"yhat_lower\", \"yhat_upper\"]].tail()\n",
    "    return latest_pred"
   ]
  },
  {
   "cell_type": "code",
   "execution_count": 100,
   "id": "3cf2fe2b-9b50-4b66-bcac-9aa3a5c77971",
   "metadata": {},
   "outputs": [],
   "source": [
    "# prediction plot, shadow area shows the estimated interval\n",
    "def Prophet_prediction_plot(dataframe, periods):\n",
    "    \"\"\"show the prediction result compare to real price\"\"\"\n",
    "    m = Prophet()\n",
    "    m.fit(dataframe)\n",
    "    future = m.make_future_dataframe(periods=periods_q)\n",
    "    forecast = m.predict(future)\n",
    "    m.plot(forecast)\n",
    "    m.plot_components(forecast)"
   ]
  },
  {
   "cell_type": "code",
   "execution_count": 101,
   "id": "34e17df4-7d3a-4f11-b22f-92988f5ef2c2",
   "metadata": {},
   "outputs": [],
   "source": [
    "# show the prediction result with line chat\n",
    "\n",
    "# this code I wish I can run in sql, but I failed\n",
    "# future = m.make_future_dataframe(periods = periods_q)\n",
    "# forecast = m.predict(future)\n",
    "# stock_price_forecast = forecast[['ds', 'yhat', 'yhat_lower', 'yhat_upper']]\n",
    "# data_combine = pd.merge(dataframe, stock_price_forecast, on = 'ds', how='outer')\n",
    "# data_combine_inner = pd.merge(dataframe, stock_price_forecast, on = 'ds')\n",
    "# data_combine['real price percent change'] = data_combine['y'].pct_change()\n",
    "# data_combine['real price percent change'] = data_combine['real price percent change'].replace(np.nan, 0)\n",
    "\n",
    "\n",
    "def prediction_need_table(data):\n",
    "    m = Prophet()\n",
    "    m.fit(dataframe)\n",
    "    future = m.make_future_dataframe(periods=periods_q)\n",
    "    forecast = m.predict(future)\n",
    "    stock_price_forecast = forecast[[\"ds\", \"yhat\", \"yhat_lower\", \"yhat_upper\"]]\n",
    "    data_combine = pd.merge(dataframe, stock_price_forecast, on=\"ds\", how=\"outer\")\n",
    "    data_combine_inner = pd.merge(dataframe, stock_price_forecast, on=\"ds\")\n",
    "    data_combine[\"real price percent change\"] = data_combine[\"y\"].pct_change()\n",
    "    data_combine[\"real price percent change\"] = data_combine[\n",
    "        \"real price percent change\"\n",
    "    ].replace(np.nan, 0)\n",
    "    return data_combine\n",
    "\n",
    "\n",
    "def estimation_result(dataframe):\n",
    "    \"\"\"this function shows the estimated stock price by line chart rather than shadow areas\"\"\"\n",
    "    \"\"\"the blue line is the real price, the yellow line is the estimated price,the green line and red line would be the estimated lower level and upper level respectively.\"\"\"\n",
    "\n",
    "    dataframe.set_index(\"ds\")[[\"y\", \"yhat\", \"yhat_lower\", \"yhat_upper\"]].plot(\n",
    "        color=[\"royalblue\", \"yellow\", \"green\", \"red\"], grid=True\n",
    "    )"
   ]
  },
  {
   "cell_type": "markdown",
   "id": "2af8c307-b929-4984-90d3-e8aa649fe96b",
   "metadata": {},
   "source": [
    "### Trade Strategy"
   ]
  },
  {
   "cell_type": "code",
   "execution_count": 102,
   "id": "a3a0ff84-1970-4445-a438-94864a3ec307",
   "metadata": {},
   "outputs": [],
   "source": [
    "# Hold: Our bench mark. Simplest trading strategy, when we predict a stock will rise in price,\n",
    "# we hold until the last day of the prediction.\n",
    "# Any trading strategy is compared based on this trading strategy.\n",
    "# In this case, our theoretical calculation is based primarily on the magnitude of the actual price volatility,\n",
    "# which is a cumulative volatility range,\n",
    "# and I use '.cumprod()' to calculate it and make a separate column to see the investor's return on unit assets,\n",
    "# over a given time period.\n",
    "\n",
    "\n",
    "def f_hold(row):\n",
    "    if abs(row[\"real price percent change\"]) > 1:\n",
    "        val = \"sell\"\n",
    "    elif row[\"Hold_return on unit assets\"] == 1.00000000:\n",
    "        val = \"buy\"\n",
    "    else:\n",
    "        val = \"hold\"\n",
    "    return val\n",
    "\n",
    "\n",
    "def holding_strategy_table(data):\n",
    "    \"\"\"This function create a table about holding strategy, include when we purchase, when we sold.\"\"\"\n",
    "    holding_sum = data.copy()\n",
    "    holding_sum[\"Hold_return on unit assets\"] = (\n",
    "        holding_sum[\"real price percent change\"] + 1\n",
    "    ).cumprod()\n",
    "    holding_sum[\"suggested strategy\"] = holding_sum.apply(f_hold, axis=1)\n",
    "    holding_sum_end = holding_sum[\n",
    "        [\n",
    "            \"ds\",\n",
    "            \"real price percent change\",\n",
    "            \"Hold_return on unit assets\",\n",
    "            \"suggested strategy\",\n",
    "        ]\n",
    "    ]\n",
    "    return holding_sum_end"
   ]
  },
  {
   "cell_type": "code",
   "execution_count": 103,
   "id": "9988d1a0-51bf-4967-bc6f-2661895086f0",
   "metadata": {},
   "outputs": [],
   "source": [
    "# Prophet: This strategy is to sell when our forecast indicates a down trend\n",
    "# and buy back in when it indicates an upward trend. In this case,\n",
    "# I set that when prophet forecasts the closing price for this stock (y_hat)\n",
    "# in the next day( t+1 day) is less than the closing price (y_hat) of today (t day),\n",
    "# I will sell all stocks, and then use the money I get to buy all the stocks on the next trading day (t+1 day).\n",
    "\n",
    "\n",
    "def f_prophet(row):\n",
    "    if row[\"Prophet Strategy index\"] < 0:\n",
    "        val = \"sell and rebuy it tomorrow\"\n",
    "    elif row[\"Prophet Strategy index\"] > 0:\n",
    "        val = \"hold\"\n",
    "    else:\n",
    "        val = \"buy\"\n",
    "    return val\n",
    "\n",
    "\n",
    "def prophet_strategy_table(data):\n",
    "\n",
    "    prophet_sum = data.copy()\n",
    "    prophet_sum[\"Prophet Strategy return on unit assets\"] = (\n",
    "        (prophet_sum[\"yhat\"].shift(-1) > prophet_sum[\"yhat\"]).shift(1)\n",
    "        * (prophet_sum[\"real price percent change\"])\n",
    "        + 1\n",
    "    ).cumprod()\n",
    "    prophet_sum[\"Prophet Strategy index\"] = (\n",
    "        prophet_sum[\"yhat\"].shift(-1) - prophet_sum[\"yhat\"]\n",
    "    )\n",
    "\n",
    "    # prophet_sum.loc[prophet_sum['yhat'].shift(-1) > prophet_sum['yhat'], 'suggested strategy'] = \"sell and rebuy it tomorrow\"\n",
    "    # prophet_sum.loc[prophet_sum['real price percent change'] == 0, 'suggested strategy'] = \"buy\"\n",
    "    # prophet_sum.loc[prophet_sum['yhat'].shift(-1) <= prophet_sum['yhat'], 'suggested strategy'] = \"hold\"\n",
    "    prophet_sum[\"suggested Strategy \"] = prophet_sum.apply(\n",
    "        f_prophet,\n",
    "        axis=1,\n",
    "    )\n",
    "    # prophet_sum_end = prophet_sum[['ds', 'real price percent change','Prophet Strategy return on unit assets', 'suggested strategy']]\n",
    "    return prophet_sum"
   ]
  },
  {
   "cell_type": "code",
   "execution_count": 104,
   "id": "e085cc6f-7328-44c8-85bc-2d247ff431c8",
   "metadata": {},
   "outputs": [],
   "source": [
    "# Prophet Thresh. This strategy is more confident.\n",
    "# If the real price of the day (day t) is lower than the low value we predicted the previous day (day t),\n",
    "# we will sell it all on the day (day t) and rebuy it again the next day(day t+1) with all the money.\n",
    "def f_prophet_thresh(row):\n",
    "    if row[\"Prophet Thresh Strategy index\"] < 0:\n",
    "        val = \"sell and rebuy it tomorrow\"\n",
    "    elif row[\"Prophet Thresh Strategy index\"] > 0:\n",
    "        val = \"hold\"\n",
    "    else:\n",
    "        val = \"lack yesterday real closing price\"\n",
    "    return val\n",
    "\n",
    "\n",
    "def prophet_thresh_strategy_table(data):\n",
    "    prophet_thresh_sum = data.copy()\n",
    "    prophet_thresh_sum[\"Prophet Thresh Strategy return on unit assets\"] = (\n",
    "        (prophet_thresh_sum[\"y\"].shift(-1) > prophet_thresh_sum[\"yhat_lower\"]).shift(1)\n",
    "        * (prophet_thresh_sum[\"real price percent change\"])\n",
    "        + 1\n",
    "    ).cumprod()\n",
    "    prophet_thresh_sum[\n",
    "        \"Prophet Thresh Strategy return on unit assets\"\n",
    "    ] = prophet_thresh_sum[\"Prophet Thresh Strategy return on unit assets\"].replace(\n",
    "        np.nan, 0\n",
    "    )\n",
    "    prophet_thresh_sum[\"Prophet Thresh Strategy index\"] = (\n",
    "        prophet_thresh_sum[\"y\"].shift(-1) - prophet_thresh_sum[\"yhat_lower\"]\n",
    "    )\n",
    "    prophet_thresh_sum[\"suggested Strategy \"] = prophet_thresh_sum.apply(\n",
    "        f_prophet_thresh,\n",
    "        axis=1,\n",
    "    )\n",
    "\n",
    "    # prophet_thresh_sum.loc[prophet_thresh_sum['y'].shift(-1) < prophet_thresh_sum['yhat_lower'], 'suggested strategy'] = \"sell and rebuy it tomorrow\"\n",
    "    # prophet_thresh_sum.loc[prophet_thresh_sum['y'].shift(-1) >= prophet_thresh_sum['yhat_lower'], 'suggested strategy'] = \"hold\"\n",
    "    # prophet_thresh_sum.loc[prophet_thresh_sum['Prophet Thresh Strategy return on unit assets'] == 0, \"suggested strategy\"] = 'buy'\n",
    "    # prophet_thresh_sum_end = prophet_thresh_sum[['ds', 'real price percent change','Prophet Thresh Strategy return on unit assets', 'suggested strategy']]\n",
    "    return prophet_thresh_sum"
   ]
  },
  {
   "cell_type": "code",
   "execution_count": 105,
   "id": "671cd127-1182-4f8f-ada9-961718337473",
   "metadata": {},
   "outputs": [],
   "source": [
    "#  profit comparison between different stategies, suppose our initial invest money is $1000\n",
    "def strategy_compare(data):\n",
    "\n",
    "    df = data.copy()\n",
    "    df[\"Hold\"] = (df[\"real price percent change\"] + 1).cumprod()\n",
    "    df[\"Prophet\"] = (\n",
    "        (df[\"yhat\"].shift(-1) > df[\"y\"]).shift(1) * (df[\"real price percent change\"])\n",
    "        + 1\n",
    "    ).cumprod()\n",
    "    df[\"Prophet Thresh\"] = (\n",
    "        (df[\"y\"].shift(-1) > df[\"yhat_lower\"]).shift(1)\n",
    "        * (df[\"real price percent change\"])\n",
    "        + 1\n",
    "    ).cumprod()\n",
    "\n",
    "    return df"
   ]
  },
  {
   "cell_type": "markdown",
   "id": "5aafb77e-b5e2-472f-ab8d-954c33a9be65",
   "metadata": {},
   "source": [
    "### Result Show"
   ]
  },
  {
   "cell_type": "code",
   "execution_count": null,
   "id": "5a2657cb-40d5-4138-ab1e-0b2c99c535ce",
   "metadata": {},
   "outputs": [],
   "source": [
    "stockname = input('Please select your stock and make sure the name is correct:')\n",
    "select_start_date = check_date_format(input('Please select the start date of the stocks you would like to collect: in YYYY-MM-DD format'))\n",
    "select_end_date = check_date_format(input('Please select the end date of the stocks you would like to collect: in YYYY-MM-DD format'))\n",
    "stockname = stockname    \n",
    "start_date = select_start_date\n",
    "end_date = select_end_date\n",
    "\n",
    "data = get_initial_data(stockname, start_date, end_date)\n",
    "data"
   ]
  },
  {
   "cell_type": "code",
   "execution_count": null,
   "id": "a178ce3a-53e4-4d74-8ca6-a138544abafc",
   "metadata": {},
   "outputs": [],
   "source": [
    "# Prophet Thresh. This strategy is more confident.\n",
    "# If the real price of the day (day t) is lower than the low value we predicted the previous day (day t),\n",
    "# we will sell it all on the day (day t) and rebuy it again the next day(day t+1) with all the money.\n",
    "\n",
    "\n",
    "def prophet_thresh_strategy_table():\n",
    "    prophet_thresh_sum = data_combine.copy()\n",
    "    prophet_thresh_sum[\"Prophet Thresh Strategy return on unit assets\"] = (\n",
    "        (prophet_thresh_sum[\"y\"] > prophet_thresh_sum[\"yhat_lower\"]).shift(1)\n",
    "        * (prophet_thresh_sum[\"real price percent change\"])\n",
    "        + 1\n",
    "    ).cumprod()\n",
    "    prophet_thresh_sum[\n",
    "        \"Prophet Thresh Strategy return on unit assets\"\n",
    "    ] = prophet_thresh_sum[\"Prophet Thresh Strategy return on unit assets\"].replace(\n",
    "        np.nan, 0\n",
    "    )\n",
    "\n",
    "    prophet_thresh_sum.loc[\n",
    "        prophet_thresh_sum[\"y\"] > prophet_thresh_sum[\"yhat_lower\"], \"suggested strategy\"\n",
    "    ] = \"sell and rebuy it tomorrow\"\n",
    "    prophet_thresh_sum.loc[\n",
    "        prophet_thresh_sum[\"y\"] <= prophet_thresh_sum[\"yhat_lower\"],\n",
    "        \"suggested strategy\",\n",
    "    ] = \"hold\"\n",
    "    prophet_thresh_sum.loc[\n",
    "        prophet_thresh_sum[\"Prophet Thresh Strategy return on unit assets\"] == 0,\n",
    "        \"suggested strategy\",\n",
    "    ] = \"buy\"\n",
    "    prophet_thresh_sum_end = prophet_thresh_sum[\n",
    "        [\n",
    "            \"ds\",\n",
    "            \"real price percent change\",\n",
    "            \"Prophet Thresh Strategy return on unit assets\",\n",
    "            \"suggested strategy\",\n",
    "        ]\n",
    "    ]\n",
    "    return prophet_thresh_sum_end\n",
    "\n",
    "\n",
    "prophet_thresh_strategy_table()"
   ]
  },
  {
   "cell_type": "code",
   "execution_count": null,
   "id": "6e445a0c-9e66-4004-8c97-91c3caa6e278",
   "metadata": {},
   "outputs": [],
   "source": [
    "#  profit comparison between different stategies, suppose our initial invest money is $1000\n",
    "def strategy_compare():\n",
    "\n",
    "    df = data_combine.copy()\n",
    "    df[\"Hold\"] = (df[\"real price percent change\"] + 1).cumprod()\n",
    "    df[\"Prophet\"] = (\n",
    "        (df[\"yhat\"].shift(-1) > df[\"y\"]).shift(1) * (df[\"real price percent change\"])\n",
    "        + 1\n",
    "    ).cumprod()\n",
    "    df[\"Prophet Thresh\"] = (\n",
    "        (df[\"y\"] > df[\"yhat_lower\"]).shift(1) * (df[\"real price percent change\"]) + 1\n",
    "    ).cumprod()\n",
    "\n",
    "    return df\n",
    "\n",
    "\n",
    "df = strategy_compare()\n",
    "print(f\"Hold = {df['Hold'].iloc[-1]*1000:,.0f}\")\n",
    "print(f\"Prophet = {df['Prophet'].iloc[-1]*1000:,.0f}\")\n",
    "print(f\"Prophet Thresh = {df['Prophet Thresh'].iloc[-1]*1000:,.0f}\")"
   ]
  },
  {
   "cell_type": "code",
   "execution_count": null,
   "id": "79221603-2021-4e3a-ac5e-7b1624d54801",
   "metadata": {},
   "outputs": [],
   "source": [
    "# plot the profit comparison, finally we can prove that\n",
    "df.set_index(\"ds\")[[\"Hold\", \"Prophet\", \"Prophet Thresh\"]].plot(\n",
    "    figsize=(16, 8),\n",
    "    color=[\n",
    "        \"royalblue\",\n",
    "        \"#34495e\",\n",
    "        \"yellow\",\n",
    "    ],\n",
    "    grid=True,\n",
    ")"
   ]
  },
  {
   "cell_type": "code",
   "execution_count": null,
   "id": "dc26c60a-f459-4ade-abae-2ac008bb3601",
   "metadata": {},
   "outputs": [],
   "source": []
  },
  {
   "cell_type": "code",
   "execution_count": null,
   "id": "af60352f-3c6e-4d8f-90d8-199f209d0a7c",
   "metadata": {},
   "outputs": [],
   "source": []
  },
  {
   "cell_type": "code",
   "execution_count": null,
   "id": "0c0891bc-9f35-4abf-8b7c-65dddb74e17c",
   "metadata": {},
   "outputs": [],
   "source": []
  }
 ],
 "metadata": {
  "environment": {
   "kernel": "python3",
   "name": "common-cpu.m91",
   "type": "gcloud",
   "uri": "gcr.io/deeplearning-platform-release/base-cpu:m91"
  },
  "kernelspec": {
   "display_name": "Python 3",
   "language": "python",
   "name": "python3"
  },
  "language_info": {
   "codemirror_mode": {
    "name": "ipython",
    "version": 3
   },
   "file_extension": ".py",
   "mimetype": "text/x-python",
   "name": "python",
   "nbconvert_exporter": "python",
   "pygments_lexer": "ipython3",
   "version": "3.7.12"
  }
 },
 "nbformat": 4,
 "nbformat_minor": 5
}
