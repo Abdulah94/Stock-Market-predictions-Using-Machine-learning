{
 "cells": [
  {
   "cell_type": "markdown",
   "id": "8c4fb533-276d-4787-8729-2b63993bdf39",
   "metadata": {},
   "source": [
    "# Stock Market Technical Analysis & Machine Learning Models"
   ]
  },
  {
   "cell_type": "markdown",
   "id": "7a8ed1c3-0232-4447-8ef7-257f6e22c297",
   "metadata": {},
   "source": [
    "### Libraries Imports"
   ]
  },
  {
   "cell_type": "code",
   "execution_count": 16,
   "id": "cce1db0f-4d64-48d9-9287-8d131e475cc9",
   "metadata": {},
   "outputs": [],
   "source": [
    "import yfinance as yf\n",
    "import pandas as pd\n",
    "import numpy as np\n",
    "import plotly.graph_objs as go\n",
    "import talib as ta\n",
    "from sklearn.svm import SVC\n",
    "from sklearn.preprocessing import StandardScaler\n",
    "from sklearn.model_selection import RandomizedSearchCV\n",
    "from sklearn.model_selection import TimeSeriesSplit\n",
    "from sklearn.pipeline import Pipeline\n",
    "from sklearn.metrics import confusion_matrix\n",
    "from sklearn.metrics import classification_report\n",
    "import warnings\n",
    "warnings.filterwarnings(\"ignore\")\n",
    "import matplotlib.pyplot as plt\n",
    "import seaborn as sns\n",
    "import import_ipynb\n",
    "from database import engine"
   ]
  },
  {
   "cell_type": "markdown",
   "id": "b2194ad7-4735-4b69-a67f-b0e647c37e3a",
   "metadata": {},
   "source": [
    "### Technical Analysis"
   ]
  },
  {
   "cell_type": "code",
   "execution_count": 22,
   "id": "c8ec279a-4871-438c-b546-bfcb8407029e",
   "metadata": {},
   "outputs": [
    {
     "data": {
      "image/png": "[encoded data removed]",
      "text/plain": [
       "<Figure size 432x288 with 2 Axes>"
      ]
     },
     "metadata": {
      "needs_background": "light"
     },
     "output_type": "display_data"
    },
    {
     "name": "stdout",
     "output_type": "stream",
     "text": [
      "None\n"
     ]
    }
   ],
   "source": [
    "   query_1 = \"\"\"\n",
    "select\n",
    "\t\"Date\" as \"Date\",\n",
    "\t\"AAPL\" as \"Close\"\n",
    "from\n",
    "\tclose_price cp\n",
    "    \"\"\"\n",
    "    \n",
    "    \n",
    "def ADX (ticker):\n",
    "    stock_data = pd.read_sql_query(query_1, engine)\n",
    "    # Calculate ADX\n",
    "    stock_data['ADX'] = ta.ADX(stock_data['High'], stock_data['Low'], stock_data['Close'])\n",
    "    #Create subplots\n",
    "    fig, (ax1, ax2) = plt.subplots(2)\n",
    "    # Plot ADX with the price\n",
    "    ax1.set_ylabel('Price')\n",
    "    ax1.plot(stock_data['Close'])\n",
    "    ax2.set_ylabel('ADX')\n",
    "    ax2.plot(stock_data['ADX'], color='red')\n",
    "    ax1.set_title('Price and ADX')\n",
    "    plt.show()\n",
    "    return\n",
    "\n",
    "def RSI (ticker):\n",
    "    \n",
    "    stock_data = pd.read_sql_query(query_1, engine)\n",
    "    stock_data['RSI'] = ta.RSI(stock_data['Close'])\n",
    "    \n",
    "    fig, (ax1, ax2) = plt.subplots(2)\n",
    "    ax1.set_ylabel('Price')\n",
    "    ax1.plot(stock_data['Close'])\n",
    "    ax2.set_ylabel('RSI')\n",
    "    ax2.plot(stock_data['RSI'], color='orangered')\n",
    "    ax1.set_title('Price and RSI')\n",
    "    plt.show()\n",
    "    \n",
    "    return\n",
    "             \n",
    "print(RSI(\"AAPL\"))"
   ]
  },
  {
   "cell_type": "markdown",
   "id": "3966899e-3a58-4c8e-aeb5-2888c3784c32",
   "metadata": {},
   "source": [
    "### ML Classification Model for Stock Market Prediction"
   ]
  },
  {
   "cell_type": "code",
   "execution_count": null,
   "id": "cebae82e-97b9-43d9-90f6-75f7e9e42188",
   "metadata": {},
   "outputs": [],
   "source": [
    "def add_features(df):\n",
    "    ''' This function takes the stock dataframe, adds to it new columns of different technical indicators as predictive variables for the model to use. '''\n",
    "      \n",
    "    n=7\n",
    "    df['RSI'] = ta.RSI(np.array(df['Close'].shift(1)), timeperiod=n)\n",
    "    df['MA'] = df['Close'].shift(1).rolling(window=n).mean()\n",
    "    df['Corr'] = df['Close'].shift(1).rolling(window=n).corr(df['MA'].shift(1))\n",
    "    df['SAR'] = ta.SAR(np.array(df['High'].shift(1)), np.array(df['Low'].shift(1)), 0.2, 0.2)\n",
    "    df['ADX'] = ta.ADX(np.array(df['High'].shift(1)), np.array(df['Low'].shift(1)), np.array(df['Open']), timeperiod=n)\n",
    "    df['Prev_High'] = df['High'].shift(1)\n",
    "    df['Prev_Low'] = df['Low'].shift(1)\n",
    "    df['Prev_Close'] = df['Close'].shift(1)\n",
    "    df['Open_change'] = df['Open'] - df['Open'].shift(1)\n",
    "    df['Open_close_change'] = df['Open'] - df['Prev_Close']\n",
    "    df['Return'] = (df['Open'].shift(-1) - df['Open']) / df['Open']\n",
    "    df['return_lag1'] = df['Return'].shift(1)\n",
    "    df['return_lag2'] = df['Return'].shift(2)\n",
    "    df['return_lag3'] = df['Return'].shift(3)\n",
    "    df = df.dropna()\n",
    "    \n",
    "    return df "
   ]
  },
  {
   "cell_type": "code",
   "execution_count": 17,
   "id": "b5408247-6df5-4b3c-a8aa-ca77a5d8e76a",
   "metadata": {},
   "outputs": [],
   "source": [
    "def add_signals(df):\n",
    "    ''' This function takes a dataframe and adds a new column for signals, the signals are based on the distribution of the observed returns of the stock during the\n",
    "        selected period, a 'Sell' signal will be assigned for all observed returns that lie below the 40th quantile (negative returns) to signal a predicted loss, \n",
    "        similarly a 'Buy' signal will be assigned for all observed returns that lie above the 60th quantile (positive returns) to signal a predicted gain, and \n",
    "        a 'Hold' signal otherwise, mostly small percentage changes in returns. '''\n",
    "    \n",
    "    df['Signal'] = 'Hold'\n",
    "    df.loc[df['Return'] > df['Return'].quantile(q=0.60), 'Signal'] = 'Buy'\n",
    "    df.loc[df['Return'] < df['Return'].quantile(q=0.40), 'Signal'] = 'Sell'\n",
    "    \n",
    "    return df"
   ]
  },
  {
   "cell_type": "code",
   "execution_count": null,
   "id": "41cca04c-d428-440e-bd31-712e9cb20715",
   "metadata": {},
   "outputs": [],
   "source": [
    "def get_training_split(df):\n",
    "    ''' This function takes a dataframe and returns one dataframe and one pandas series, the returned dataframe conatins the features of the training dataset,\n",
    "        and the returned series contain the related signals of the training dataset. '''\n",
    "    \n",
    "    split = int(len(df)*0.8)\n",
    "    \n",
    "    features = df.drop(['Close', 'Signal', 'High', 'Low', 'Volume', 'Return'], axis=1)\n",
    "    signals = df['Signal']\n",
    "    \n",
    "    training_features_df = features[:split]\n",
    "    training_signals_series = signals[:split]\n",
    "    \n",
    "    return training_features_df, training_signals_series;"
   ]
  },
  {
   "cell_type": "code",
   "execution_count": null,
   "id": "4fbb5a26-f41c-40ce-a415-ec531735ffd3",
   "metadata": {},
   "outputs": [],
   "source": [
    "def get_testing_split(df):\n",
    "    ''' This function takes a dataframe and returns one dataframe and one pandas series, the returned dataframe conatins the features of the testing dataset,\n",
    "         and the returned series contains the related signals of the testing dataset. '''\n",
    "    \n",
    "    split = int(len(df)*0.8)\n",
    "    \n",
    "    features = df.drop(['Close', 'Signal', 'High', 'Low', 'Volume', 'Return'], axis=1)\n",
    "    signals = df['Signal']\n",
    "    \n",
    "    testing_features_df = features[split:]\n",
    "    testing_signals_series = signals[split:]\n",
    "    \n",
    "    return testing_features_df, testing_signals_series;"
   ]
  },
  {
   "cell_type": "code",
   "execution_count": null,
   "id": "2690f982-7a00-481c-830b-134834600e81",
   "metadata": {},
   "outputs": [],
   "source": [
    "def prediction_model(trainF, trainS, testF):\n",
    "    ''' This function takes two dataframes and one pandas series. We will pass the training features dataframe, training actual signals series, \n",
    "        and the testing features dataframe that we want the model to predict. The function returns a pandas series of the predicted signals. '''\n",
    "    \n",
    "    c = [10,100,1000,10000]\n",
    "    g = [1e-2, 1e-1, 1e0]\n",
    "    parameters = {'svc__C' : c,\n",
    "                  'svc__gamma': g,\n",
    "                  'svc__kernel': ['rbf']\n",
    "                 }\n",
    "    steps = [('scaler', StandardScaler()), ('svc', SVC())]\n",
    "    pipeline = Pipeline(steps)\n",
    "    \n",
    "    rcv = RandomizedSearchCV(pipeline, parameters, cv=TimeSeriesSplit(n_splits=2))\n",
    "    rcv.fit(trainF, trainS)\n",
    "    best_C = rcv.best_params_['svc__C']\n",
    "    best_kernel = rcv.best_params_['svc__kernel']\n",
    "    best_gamma = rcv.best_params_['svc__gamma']\n",
    "    \n",
    "    cls = SVC(C=best_C, kernel=best_kernel, gamma=best_gamma)\n",
    "    ss = StandardScaler()\n",
    "    \n",
    "    cls.fit(ss.fit_transform(trainF), trainS)\n",
    "    predicted_signals = cls.predict(ss.transform(testF))\n",
    "    \n",
    "    return predicted_signals"
   ]
  },
  {
   "cell_type": "code",
   "execution_count": null,
   "id": "8fc717ba-6e02-4278-92d5-0d6353a139a7",
   "metadata": {},
   "outputs": [],
   "source": [
    "def plot_confusion_matrix(array):\n",
    "    ''' This function takes an array (confusion matrix) and returns a plot to visualise the performance. '''\n",
    "    \n",
    "    plt.title('Confusion Matrix', fontsize=16)\n",
    "    plt.xticks(fontsize=14)\n",
    "    plt.yticks(fontsize=14)\n",
    "\n",
    "    ax = plt.subplot()\n",
    "    sns.heatmap(array, annot=True, ax=ax)\n",
    "\n",
    "    ax.xaxis.set_ticklabels(['Sell', 'Hold', 'Buy'])\n",
    "    ax.yaxis.set_ticklabels(['Sell', 'Hold', 'Buy'])\n",
    "    \n",
    "    return plt.show()"
   ]
  },
  {
   "cell_type": "code",
   "execution_count": null,
   "id": "103c2c8d-7022-445a-a25e-ec4f2481a5f3",
   "metadata": {},
   "outputs": [],
   "source": [
    "def classification_model_evaluation(df):\n",
    "    ''' This function takes the stock's dataframe, mutates it in the desired format, splits the dataset into a training and testing datasets, gets the model predictions\n",
    "         and evaluates it, and then returns the confusion matrix plot and the classification accuracy report (out-of-sample accuracy is based on the testing dataset). '''\n",
    "    \n",
    "    df1 = add_features(df)\n",
    "    df2 = add_signals(df1)\n",
    "    \n",
    "    trainF, trainS = get_training_split(df2)\n",
    "    testF, testS = get_testing_split(df2)\n",
    "    \n",
    "    predicted_signals = prediction_model(trainF, trainS, testF)\n",
    "    \n",
    "    confusion_matrix_ = confusion_matrix(testS, predicted_signals)\n",
    "    confusion_matrix_plot = plot_confusion_matrix(confusion_matrix_)\n",
    "    out_of_sample_accuracy = classification_report(testS, predicted_signals)\n",
    "    \n",
    "    return print(confusion_matrix_plot, out_of_sample_accuracy)"
   ]
  },
  {
   "cell_type": "markdown",
   "id": "af5d2511-a0fc-4d50-b92d-875aa65fe2f0",
   "metadata": {},
   "source": [
    "### Stock Market Prediction Using Prophet Package"
   ]
  },
  {
   "cell_type": "code",
   "execution_count": null,
   "id": "dc5cfa09-638c-4cbc-bdc0-92062e7fb872",
   "metadata": {},
   "outputs": [],
   "source": []
  }
 ],
 "metadata": {
  "environment": {
   "kernel": "python3",
   "name": "common-cpu.m91",
   "type": "gcloud",
   "uri": "gcr.io/deeplearning-platform-release/base-cpu:m91"
  },
  "kernelspec": {
   "display_name": "Python 3",
   "language": "python",
   "name": "python3"
  },
  "language_info": {
   "codemirror_mode": {
    "name": "ipython",
    "version": 3
   },
   "file_extension": ".py",
   "mimetype": "text/x-python",
   "name": "python",
   "nbconvert_exporter": "python",
   "pygments_lexer": "ipython3",
   "version": "3.7.12"
  }
 },
 "nbformat": 4,
 "nbformat_minor": 5
}
