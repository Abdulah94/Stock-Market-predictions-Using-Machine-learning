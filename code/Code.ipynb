{
 "cells": [
  {
   "cell_type": "markdown",
   "id": "8c4fb533-276d-4787-8729-2b63993bdf39",
   "metadata": {},
   "source": [
    "# Stock Market Technical Analysis & Machine Learning Models"
   ]
  },
  {
   "cell_type": "markdown",
   "id": "7a8ed1c3-0232-4447-8ef7-257f6e22c297",
   "metadata": {},
   "source": [
    "### Libraries Imports"
   ]
  },
  {
   "cell_type": "code",
   "execution_count": 22,
   "id": "cce1db0f-4d64-48d9-9287-8d131e475cc9",
   "metadata": {},
   "outputs": [],
   "source": [
    "import yfinance as yf\n",
    "import pandas as pd\n",
    "import numpy as np\n",
    "import plotly.graph_objs as go\n",
    "import talib as ta\n",
    "from sklearn.svm import SVC\n",
    "from sklearn.preprocessing import StandardScaler\n",
    "from sklearn.model_selection import RandomizedSearchCV\n",
    "from sklearn.model_selection import TimeSeriesSplit\n",
    "from sklearn.pipeline import Pipeline\n",
    "from sklearn.metrics import confusion_matrix\n",
    "from sklearn.metrics import classification_report\n",
    "import warnings\n",
    "warnings.filterwarnings(\"ignore\")\n",
    "import matplotlib.pyplot as plt\n",
    "import seaborn as sns\n",
    "import import_ipynb\n",
    "from database import engine"
   ]
  },
  {
   "cell_type": "markdown",
   "id": "b2194ad7-4735-4b69-a67f-b0e647c37e3a",
   "metadata": {},
   "source": [
    "### Technical Analysis"
   ]
  },
  {
   "cell_type": "code",
   "execution_count": null,
   "id": "c8ec279a-4871-438c-b546-bfcb8407029e",
   "metadata": {},
   "outputs": [],
   "source": []
  },
  {
   "cell_type": "markdown",
   "id": "3966899e-3a58-4c8e-aeb5-2888c3784c32",
   "metadata": {},
   "source": [
    "### ML Classification Model for Stock Market Prediction"
   ]
  },
  {
   "cell_type": "code",
   "execution_count": 23,
   "id": "cebae82e-97b9-43d9-90f6-75f7e9e42188",
   "metadata": {},
   "outputs": [],
   "source": [
    "def add_features(df):\n",
    "    ''' This function takes the stock dataframe, adds to it new columns of different technical indicators as predictive variables for the model to use. '''\n",
    "      \n",
    "    n=7\n",
    "    df['RSI'] = ta.RSI(np.array(df['Close'].shift(1)), timeperiod=n)\n",
    "    df['MA'] = df['Close'].shift(1).rolling(window=n).mean()\n",
    "    df['Corr'] = df['Close'].shift(1).rolling(window=n).corr(df['MA'].shift(1))\n",
    "    df['SAR'] = ta.SAR(np.array(df['High'].shift(1)), np.array(df['Low'].shift(1)), 0.2, 0.2)\n",
    "    df['ADX'] = ta.ADX(np.array(df['High'].shift(1)), np.array(df['Low'].shift(1)), np.array(df['Open']), timeperiod=n)\n",
    "    df['Prev_High'] = df['High'].shift(1)\n",
    "    df['Prev_Low'] = df['Low'].shift(1)\n",
    "    df['Prev_Close'] = df['Close'].shift(1)\n",
    "    df['Open_change'] = df['Open'] - df['Open'].shift(1)\n",
    "    df['Open_close_change'] = df['Open'] - df['Prev_Close']\n",
    "    df['Return'] = (df['Open'].shift(-1) - df['Open']) / df['Open']\n",
    "    df['return_lag1'] = df['Return'].shift(1)\n",
    "    df['return_lag2'] = df['Return'].shift(2)\n",
    "    df['return_lag3'] = df['Return'].shift(3)\n",
    "    df = df.dropna()\n",
    "    \n",
    "    return df "
   ]
  },
  {
   "cell_type": "code",
   "execution_count": 24,
   "id": "b5408247-6df5-4b3c-a8aa-ca77a5d8e76a",
   "metadata": {},
   "outputs": [],
   "source": [
    "def add_signals(df):\n",
    "    ''' This function takes a dataframe and adds a new column for signals, the signals are based on the distribution of the observed returns of the stock during the\n",
    "        selected period, a 'Sell' signal will be assigned for all observed returns that lie below the 40th quantile (negative returns) to signal a predicted loss, \n",
    "        similarly a 'Buy' signal will be assigned for all observed returns that lie above the 60th quantile (positive returns) to signal a predicted gain, and \n",
    "        a 'Hold' signal otherwise, mostly small percentage changes in returns. '''\n",
    "    \n",
    "    df['Signal'] = 'Hold'\n",
    "    df.loc[df['Return'] > df['Return'].quantile(q=0.60), 'Signal'] = 'Buy'\n",
    "    df.loc[df['Return'] < df['Return'].quantile(q=0.40), 'Signal'] = 'Sell'\n",
    "    \n",
    "    return df"
   ]
  },
  {
   "cell_type": "code",
   "execution_count": 25,
   "id": "41cca04c-d428-440e-bd31-712e9cb20715",
   "metadata": {},
   "outputs": [],
   "source": [
    "def get_training_split(df):\n",
    "    ''' This function takes a dataframe and returns one dataframe and one pandas series, the returned dataframe conatins the features of the training dataset,\n",
    "        and the returned series contain the related signals of the training dataset. '''\n",
    "    \n",
    "    split = int(len(df)*0.8)\n",
    "    \n",
    "    features = df.drop(['Close', 'Signal', 'High', 'Low', 'Volume', 'Return'], axis=1)\n",
    "    signals = df['Signal']\n",
    "    \n",
    "    training_features_df = features[:split]\n",
    "    training_signals_series = signals[:split]\n",
    "    \n",
    "    return training_features_df, training_signals_series;"
   ]
  },
  {
   "cell_type": "code",
   "execution_count": 26,
   "id": "4fbb5a26-f41c-40ce-a415-ec531735ffd3",
   "metadata": {},
   "outputs": [],
   "source": [
    "def get_testing_split(df):\n",
    "    ''' This function takes a dataframe and returns one dataframe and one pandas series, the returned dataframe conatins the features of the testing dataset,\n",
    "         and the returned series contains the related signals of the testing dataset. '''\n",
    "    \n",
    "    split = int(len(df)*0.8)\n",
    "    \n",
    "    features = df.drop(['Close', 'Signal', 'High', 'Low', 'Volume', 'Return'], axis=1)\n",
    "    signals = df['Signal']\n",
    "    \n",
    "    testing_features_df = features[split:]\n",
    "    testing_signals_series = signals[split:]\n",
    "    \n",
    "    return testing_features_df, testing_signals_series;"
   ]
  },
  {
   "cell_type": "code",
   "execution_count": 27,
   "id": "2690f982-7a00-481c-830b-134834600e81",
   "metadata": {},
   "outputs": [],
   "source": [
    "def prediction_model(trainF, trainS, testF):\n",
    "    ''' This function takes two dataframes and one pandas series. We will pass the training features dataframe, training actual signals series, \n",
    "        and the testing features dataframe that we want the model to predict. The function returns a pandas series of the predicted signals. '''\n",
    "    \n",
    "    c = [10,100,1000,10000]\n",
    "    g = [1e-2, 1e-1, 1e0]\n",
    "    parameters = {'svc__C' : c,\n",
    "                  'svc__gamma': g,\n",
    "                  'svc__kernel': ['rbf']\n",
    "                 }\n",
    "    steps = [('scaler', StandardScaler()), ('svc', SVC())]\n",
    "    pipeline = Pipeline(steps)\n",
    "    \n",
    "    rcv = RandomizedSearchCV(pipeline, parameters, cv=TimeSeriesSplit(n_splits=2))\n",
    "    rcv.fit(trainF, trainS)\n",
    "    best_C = rcv.best_params_['svc__C']\n",
    "    best_kernel = rcv.best_params_['svc__kernel']\n",
    "    best_gamma = rcv.best_params_['svc__gamma']\n",
    "    \n",
    "    cls = SVC(C=best_C, kernel=best_kernel, gamma=best_gamma)\n",
    "    ss = StandardScaler()\n",
    "    \n",
    "    cls.fit(ss.fit_transform(trainF), trainS)\n",
    "    predicted_signals = cls.predict(ss.transform(testF))\n",
    "    \n",
    "    return predicted_signals"
   ]
  },
  {
   "cell_type": "code",
   "execution_count": 28,
   "id": "8fc717ba-6e02-4278-92d5-0d6353a139a7",
   "metadata": {},
   "outputs": [],
   "source": [
    "def plot_confusion_matrix(array):\n",
    "    ''' This function takes an array (confusion matrix) and returns a plot to visualise the performance. '''\n",
    "    \n",
    "    plt.title('Confusion Matrix', fontsize=16)\n",
    "    plt.xticks(fontsize=14)\n",
    "    plt.yticks(fontsize=14)\n",
    "\n",
    "    ax = plt.subplot()\n",
    "    sns.heatmap(array, annot=True, ax=ax)\n",
    "\n",
    "    ax.xaxis.set_ticklabels(['Sell', 'Hold', 'Buy'])\n",
    "    ax.yaxis.set_ticklabels(['Sell', 'Hold', 'Buy'])\n",
    "    \n",
    "    return plt.show()"
   ]
  },
  {
   "cell_type": "code",
   "execution_count": 29,
   "id": "103c2c8d-7022-445a-a25e-ec4f2481a5f3",
   "metadata": {},
   "outputs": [],
   "source": [
    "def classification_model_evaluation(df):\n",
    "    ''' This function takes the stock's dataframe, mutates it in the desired format, splits the dataset into a training and testing datasets, gets the model predictions\n",
    "         and evaluates it, and then returns the confusion matrix plot and the classification accuracy report (out-of-sample accuracy is based on the testing dataset). '''\n",
    "    \n",
    "    df1 = add_features(df)\n",
    "    df2 = add_signals(df1)\n",
    "    \n",
    "    trainF, trainS = get_training_split(df2)\n",
    "    testF, testS = get_testing_split(df2)\n",
    "    \n",
    "    predicted_signals = prediction_model(trainF, trainS, testF)\n",
    "    \n",
    "    confusion_matrix_ = confusion_matrix(testS, predicted_signals)\n",
    "    confusion_matrix_plot = plot_confusion_matrix(confusion_matrix_)\n",
    "    out_of_sample_accuracy = classification_report(testS, predicted_signals)\n",
    "    \n",
    "    return print(confusion_matrix_plot, out_of_sample_accuracy)"
   ]
  },
  {
   "cell_type": "markdown",
   "id": "038d44b5-b20b-4b52-aea4-600acd488c85",
   "metadata": {},
   "source": [
    "#### Model Evaluation"
   ]
  },
  {
   "cell_type": "markdown",
   "id": "f6814857-a8e4-4008-a5f2-5271f96438b3",
   "metadata": {},
   "source": [
    "##### The model's performance varies from stock to stock, some stocks got a high accuracy rate ( > 50% ) and some other stocks were harder to accuratly predict ( < 50% ) and had a low accuracy rate. However, out of 15 randomly selected stocks we got an accuracy rate of 58%. We listed four examples below. "
   ]
  },
  {
   "cell_type": "markdown",
   "id": "a4b57e75-ee67-4ccd-bb58-ac11a3b33126",
   "metadata": {},
   "source": [
    "##### 1) Amazon"
   ]
  },
  {
   "cell_type": "code",
   "execution_count": 30,
   "id": "9d662e12-fe82-4218-b746-28b901bcf880",
   "metadata": {},
   "outputs": [],
   "source": [
    "Amazon_query = \"\"\" \n",
    "select \n",
    "\tv.\"Date\" as \"Date\",\n",
    "\top.\"AMZN\" as \"Open\",\n",
    "\thp.\"AMZN\" as \"High\",\n",
    "\tlp.\"AMZN\" as \"Low\",\n",
    "\tcp.\"AMZN\" as \"Close\",\n",
    "\tac.\"AMZN\" as \"Adj Close\",\n",
    "\tv.\"AMZN\" as \"Volume\"\n",
    "\n",
    "FROM \n",
    "\tclose_price cp left join adj_close ac on cp.\"Date\" = ac.\"Date\"\n",
    "\tleft join volume v on cp.\"Date\" = v.\"Date\"\n",
    "\tleft join open_price op on cp.\"Date\" = op.\"Date\"\n",
    "\tleft join high_price hp on cp.\"Date\" = hp.\"Date\"\n",
    "\tleft join low_price lp on cp.\"Date\" = lp.\"Date\"\n",
    "\n",
    "    \"\"\""
   ]
  },
  {
   "cell_type": "code",
   "execution_count": 31,
   "id": "0c4df8c4-de3d-4f17-ac6e-4d6864c0c6c1",
   "metadata": {},
   "outputs": [],
   "source": [
    "amzn = pd.read_sql_query(Amazon_query, engine) # could not pass this to my function because I get a type error, so I used yfinance below."
   ]
  },
  {
   "cell_type": "code",
   "execution_count": null,
   "id": "53796fc9-7573-4294-a201-69180b00b92c",
   "metadata": {},
   "outputs": [],
   "source": [
    "amzn = yf.download('AMZN', start ='2019-04-29', end = '2022-04-29')"
   ]
  },
  {
   "cell_type": "code",
   "execution_count": 34,
   "id": "2402ac79-4ea1-4f44-99bc-abbaea19a8ad",
   "metadata": {},
   "outputs": [
    {
     "data": {
      "image/png": "[encoded data removed]",
      "text/plain": [
       "<Figure size 432x288 with 2 Axes>"
      ]
     },
     "metadata": {
      "needs_background": "light"
     },
     "output_type": "display_data"
    },
    {
     "name": "stdout",
     "output_type": "stream",
     "text": [
      "None               precision    recall  f1-score   support\n",
      "\n",
      "         Buy       0.77      0.86      0.81        56\n",
      "        Hold       0.50      0.32      0.39        28\n",
      "        Sell       0.78      0.83      0.81        65\n",
      "\n",
      "    accuracy                           0.74       149\n",
      "   macro avg       0.69      0.67      0.67       149\n",
      "weighted avg       0.73      0.74      0.73       149\n",
      "\n"
     ]
    }
   ],
   "source": [
    "classification_model_evaluation(amzn)"
   ]
  },
  {
   "cell_type": "markdown",
   "id": "612e8fe0-b82c-4226-84ed-78d8dd65aa2d",
   "metadata": {},
   "source": [
    "###### The model's accuracy in predicting Amazon's stock movement direction is 74%. "
   ]
  },
  {
   "cell_type": "markdown",
   "id": "eb904078-0bf2-4ad4-981e-dff209a597e8",
   "metadata": {},
   "source": [
    "##### 2) Boeing"
   ]
  },
  {
   "cell_type": "code",
   "execution_count": 37,
   "id": "86102a6a-b440-4549-ab56-4a6e2a8f0ff6",
   "metadata": {},
   "outputs": [
    {
     "name": "stdout",
     "output_type": "stream",
     "text": [
      "[*********************100%***********************]  1 of 1 completed\n"
     ]
    }
   ],
   "source": [
    "Boeing = yf.download('BA', start ='2019-04-29', end = '2022-04-29')"
   ]
  },
  {
   "cell_type": "code",
   "execution_count": 38,
   "id": "c59327cb-dc9d-4026-b27d-2d1f626db96e",
   "metadata": {},
   "outputs": [
    {
     "data": {
      "image/png": "[encoded data removed]",
      "text/plain": [
       "<Figure size 432x288 with 2 Axes>"
      ]
     },
     "metadata": {
      "needs_background": "light"
     },
     "output_type": "display_data"
    },
    {
     "name": "stdout",
     "output_type": "stream",
     "text": [
      "None               precision    recall  f1-score   support\n",
      "\n",
      "         Buy       0.68      0.79      0.73        63\n",
      "        Hold       0.27      0.12      0.16        26\n",
      "        Sell       0.75      0.80      0.77        60\n",
      "\n",
      "    accuracy                           0.68       149\n",
      "   macro avg       0.57      0.57      0.56       149\n",
      "weighted avg       0.64      0.68      0.65       149\n",
      "\n"
     ]
    }
   ],
   "source": [
    "classification_model_evaluation(Boeing)"
   ]
  },
  {
   "cell_type": "markdown",
   "id": "3695ac55-4bce-4318-8a57-e8a4fe69c4e1",
   "metadata": {},
   "source": [
    "###### The model's accuracy in predicting Boeing's stock movement direction is 68%. "
   ]
  },
  {
   "cell_type": "markdown",
   "id": "4c6371b5-f62c-402e-bca3-74ac36941aed",
   "metadata": {},
   "source": [
    "##### 3) eBay"
   ]
  },
  {
   "cell_type": "code",
   "execution_count": 39,
   "id": "a2faf5da-55b0-42b7-ab9f-45d5200ed1be",
   "metadata": {},
   "outputs": [
    {
     "name": "stdout",
     "output_type": "stream",
     "text": [
      "[*********************100%***********************]  1 of 1 completed\n"
     ]
    }
   ],
   "source": [
    "ebay = yf.download('EBAY', start ='2019-04-29', end = '2022-04-29')"
   ]
  },
  {
   "cell_type": "code",
   "execution_count": 40,
   "id": "6cb932f2-77c0-4a65-8bef-baed210ab2f1",
   "metadata": {},
   "outputs": [
    {
     "data": {
      "image/png": "[encoded data removed]",
      "text/plain": [
       "<Figure size 432x288 with 2 Axes>"
      ]
     },
     "metadata": {
      "needs_background": "light"
     },
     "output_type": "display_data"
    },
    {
     "name": "stdout",
     "output_type": "stream",
     "text": [
      "None               precision    recall  f1-score   support\n",
      "\n",
      "         Buy       0.64      0.98      0.77        55\n",
      "        Hold       0.17      0.19      0.18        21\n",
      "        Sell       0.88      0.49      0.63        73\n",
      "\n",
      "    accuracy                           0.63       149\n",
      "   macro avg       0.56      0.56      0.53       149\n",
      "weighted avg       0.69      0.63      0.62       149\n",
      "\n"
     ]
    }
   ],
   "source": [
    "classification_model_evaluation(ebay)"
   ]
  },
  {
   "cell_type": "markdown",
   "id": "7f9c67dc-4e02-4482-889f-589712f43568",
   "metadata": {},
   "source": [
    "###### The model's accuracy in predicting eBay's stock movement direction is 63%. "
   ]
  },
  {
   "cell_type": "markdown",
   "id": "4f7de6d7-c5b1-45bc-a1e3-137b921dd98e",
   "metadata": {},
   "source": [
    "##### 4) Allstate"
   ]
  },
  {
   "cell_type": "code",
   "execution_count": 56,
   "id": "6c82a85c-16b3-495b-bb7c-f77aaf56f72b",
   "metadata": {},
   "outputs": [
    {
     "name": "stdout",
     "output_type": "stream",
     "text": [
      "[*********************100%***********************]  1 of 1 completed\n"
     ]
    }
   ],
   "source": [
    "allstate = yf.download('ALL', start ='2019-04-29', end = '2022-04-29')"
   ]
  },
  {
   "cell_type": "code",
   "execution_count": 57,
   "id": "63405a25-1a16-44fa-be64-a9ffa3e02cda",
   "metadata": {},
   "outputs": [
    {
     "data": {
      "image/png": "[encoded data removed]",
      "text/plain": [
       "<Figure size 432x288 with 2 Axes>"
      ]
     },
     "metadata": {
      "needs_background": "light"
     },
     "output_type": "display_data"
    },
    {
     "name": "stdout",
     "output_type": "stream",
     "text": [
      "None               precision    recall  f1-score   support\n",
      "\n",
      "         Buy       0.49      0.84      0.62        55\n",
      "        Hold       0.33      0.27      0.30        33\n",
      "        Sell       0.76      0.36      0.49        61\n",
      "\n",
      "    accuracy                           0.52       149\n",
      "   macro avg       0.53      0.49      0.47       149\n",
      "weighted avg       0.57      0.52      0.50       149\n",
      "\n"
     ]
    }
   ],
   "source": [
    "classification_model_evaluation(allstate)"
   ]
  },
  {
   "cell_type": "markdown",
   "id": "83fa30f8-07fb-4ea7-892f-46af40aa78e3",
   "metadata": {},
   "source": [
    "###### The model's accuracy in predicting Allstate's stock movement direction is 52%. "
   ]
  },
  {
   "cell_type": "markdown",
   "id": "af5d2511-a0fc-4d50-b92d-875aa65fe2f0",
   "metadata": {},
   "source": [
    "### Stock Market Prediction Using Prophet Package"
   ]
  },
  {
   "cell_type": "code",
   "execution_count": null,
   "id": "938474c2-ced0-4b4b-8c91-a50cb0f29d33",
   "metadata": {},
   "outputs": [],
   "source": []
  }
 ],
 "metadata": {
  "environment": {
   "kernel": "python3",
   "name": "common-cpu.m91",
   "type": "gcloud",
   "uri": "gcr.io/deeplearning-platform-release/base-cpu:m91"
  },
  "kernelspec": {
   "display_name": "Python 3",
   "language": "python",
   "name": "python3"
  },
  "language_info": {
   "codemirror_mode": {
    "name": "ipython",
    "version": 3
   },
   "file_extension": ".py",
   "mimetype": "text/x-python",
   "name": "python",
   "nbconvert_exporter": "python",
   "pygments_lexer": "ipython3",
   "version": "3.7.12"
  }
 },
 "nbformat": 4,
 "nbformat_minor": 5
}
