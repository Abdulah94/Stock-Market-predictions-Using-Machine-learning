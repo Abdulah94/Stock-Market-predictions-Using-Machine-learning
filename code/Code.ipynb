{
 "cells": [
  {
   "cell_type": "markdown",
   "id": "8c4fb533-276d-4787-8729-2b63993bdf39",
   "metadata": {},
   "source": [
    "# Stock Market Technical Analysis & Machine Learning Models"
   ]
  },
  {
   "cell_type": "markdown",
   "id": "7a8ed1c3-0232-4447-8ef7-257f6e22c297",
   "metadata": {},
   "source": [
    "### Libraries Imports"
   ]
  },
  {
   "cell_type": "code",
   "execution_count": 16,
   "id": "cce1db0f-4d64-48d9-9287-8d131e475cc9",
   "metadata": {},
   "outputs": [],
   "source": [
    "import yfinance as yf\n",
    "import pandas as pd\n",
    "import numpy as np\n",
    "import plotly.graph_objs as go\n",
    "import talib as ta\n",
    "from sklearn.svm import SVC\n",
    "from sklearn.preprocessing import StandardScaler\n",
    "from sklearn.model_selection import RandomizedSearchCV\n",
    "from sklearn.model_selection import TimeSeriesSplit\n",
    "from sklearn.pipeline import Pipeline\n",
    "from sklearn.metrics import confusion_matrix\n",
    "from sklearn.metrics import classification_report\n",
    "import warnings\n",
    "warnings.filterwarnings(\"ignore\")\n",
    "import matplotlib.pyplot as plt\n",
    "import seaborn as sns\n",
    "import import_ipynb\n",
    "from database import engine"
   ]
  },
  {
   "cell_type": "markdown",
   "id": "b2194ad7-4735-4b69-a67f-b0e647c37e3a",
   "metadata": {},
   "source": [
    "### Technical Analysis"
   ]
  },
  {
   "cell_type": "code",
   "execution_count": 15,
   "id": "c8ec279a-4871-438c-b546-bfcb8407029e",
   "metadata": {},
   "outputs": [],
   "source": []
  },
  {
   "cell_type": "markdown",
   "id": "3966899e-3a58-4c8e-aeb5-2888c3784c32",
   "metadata": {},
   "source": [
    "### Stock Market ML Classification Model"
   ]
  },
  {
   "cell_type": "code",
   "execution_count": null,
   "id": "cebae82e-97b9-43d9-90f6-75f7e9e42188",
   "metadata": {},
   "outputs": [],
   "source": []
  },
  {
   "cell_type": "markdown",
   "id": "af5d2511-a0fc-4d50-b92d-875aa65fe2f0",
   "metadata": {},
   "source": [
    "### Stock Market Prediction Using Prophet Package"
   ]
  },
  {
   "cell_type": "code",
   "execution_count": null,
   "id": "dc5cfa09-638c-4cbc-bdc0-92062e7fb872",
   "metadata": {},
   "outputs": [],
   "source": []
  }
 ],
 "metadata": {
  "environment": {
   "kernel": "python3",
   "name": "common-cpu.m91",
   "type": "gcloud",
   "uri": "gcr.io/deeplearning-platform-release/base-cpu:m91"
  },
  "kernelspec": {
   "display_name": "Python 3",
   "language": "python",
   "name": "python3"
  },
  "language_info": {
   "codemirror_mode": {
    "name": "ipython",
    "version": 3
   },
   "file_extension": ".py",
   "mimetype": "text/x-python",
   "name": "python",
   "nbconvert_exporter": "python",
   "pygments_lexer": "ipython3",
   "version": "3.7.12"
  }
 },
 "nbformat": 4,
 "nbformat_minor": 5
}
